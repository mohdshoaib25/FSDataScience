{
 "cells": [
  {
   "cell_type": "markdown",
   "id": "c95ba0d1",
   "metadata": {},
   "source": [
    "1.\tWhy are functions advantageous to have in your programs?\n",
    "Ans. Function helps to do coding once and call it anytime in our program thus reduce the effort to coding again and again the same thing and make it easier and simpler to understand\n"
   ]
  },
  {
   "cell_type": "markdown",
   "id": "ba03460d",
   "metadata": {},
   "source": [
    "2.\tWhen does the code in a function run: when it's specified or when it's called?\n",
    "Ans. Code in a function is executed only when it is called.\n"
   ]
  },
  {
   "cell_type": "markdown",
   "id": "9695f362",
   "metadata": {},
   "source": [
    "3.\tWhat statement creates a function?\n",
    "Ans. def statement creates a function.\n"
   ]
  },
  {
   "cell_type": "code",
   "execution_count": 5,
   "id": "e135df33",
   "metadata": {},
   "outputs": [
    {
     "name": "stdout",
     "output_type": "stream",
     "text": [
      "Hello!\n"
     ]
    }
   ],
   "source": [
    "def name():\n",
    "    print(\"Hello!\")\n",
    "    \n",
    "name()"
   ]
  },
  {
   "cell_type": "markdown",
   "id": "63765328",
   "metadata": {},
   "source": [
    "4.\tWhat is the difference between a function and a function call?\n",
    "Ans.  Function : it is coding that we wants to run or execute when it is called. It is created using def statement and have a coding in its clause.\n",
    "Function Call: Is when we want to excute the code defined in the function and it return the value accordingly\n",
    "\n",
    "def name():  # Function\n",
    "    print(\"Hello!\")\n",
    "    \n",
    "name()  # Function Call\n"
   ]
  },
  {
   "cell_type": "markdown",
   "id": "c51752d7",
   "metadata": {},
   "source": [
    "5.\tHow many global scopes are there in a Python program? How many local scopes?\n",
    "Ans. There is only ONE global scopes in Python per Program ececution.\n",
    "Local scopes are created within the specific function whenever the function is called in a program.\n"
   ]
  },
  {
   "cell_type": "markdown",
   "id": "ba77f430",
   "metadata": {},
   "source": [
    "6.\tWhat happens to variables in a local scope when the function call returns?\n",
    "Ans. When the function call returns, the local scope is destroyed and loses all its value.\n"
   ]
  },
  {
   "cell_type": "markdown",
   "id": "61709f11",
   "metadata": {},
   "source": [
    "7.\tWhat is the concept of a return value? Is it possible to have a return value in an expression?\n",
    "Ans. Return value is the value that function returns on it is call or executed.\n",
    "Yes, the return value can be used in the expression like any other value.\n"
   ]
  },
  {
   "cell_type": "markdown",
   "id": "d067bfc2",
   "metadata": {},
   "source": [
    "8.\tIf a function does not have a return statement, what is the return value of a call to that function?\n",
    "Ans.  If the function have a return value than when we call a function the return value will be none.\n"
   ]
  },
  {
   "cell_type": "markdown",
   "id": "8140f2c3",
   "metadata": {},
   "source": [
    "9.\tHow do you make a function variable refer to the global variable?\n",
    "Ans. Function variable can be referred to global variable through Global statement.\n"
   ]
  },
  {
   "cell_type": "markdown",
   "id": "76e5903b",
   "metadata": {},
   "source": [
    "10.\tWhat is the data type of None?\n",
    "Ans. None is the data type of it own. i.e data type of none is none and it is not same as 0, empty or false.\n"
   ]
  },
  {
   "cell_type": "markdown",
   "id": "a6a08b67",
   "metadata": {},
   "source": [
    "11.\tWhat does the sentence import areallyourpetsnamederic do?\n",
    "Ans. Import statement import a module from the library. So here it will import the module name areallyourpetsnamederic from library if it is available.\n"
   ]
  },
  {
   "cell_type": "markdown",
   "id": "4a18e754",
   "metadata": {},
   "source": [
    "13.\tWhat can you do to save a programme from crashing if it encounters an error?\n",
    "Ans. If we program that might crash, we can execute the program in  try: ,  except:  and finally: clause\n"
   ]
  },
  {
   "cell_type": "markdown",
   "id": "478d2bde",
   "metadata": {},
   "source": [
    "14.\tWhat is the purpose of the try clause? What is the purpose of the except clause?\n",
    "Ans. Code that might crash or give error goes in try clause. If the error occurs in execution then it goes in except clause.\n"
   ]
  }
 ],
 "metadata": {
  "kernelspec": {
   "display_name": "Python 3 (ipykernel)",
   "language": "python",
   "name": "python3"
  },
  "language_info": {
   "codemirror_mode": {
    "name": "ipython",
    "version": 3
   },
   "file_extension": ".py",
   "mimetype": "text/x-python",
   "name": "python",
   "nbconvert_exporter": "python",
   "pygments_lexer": "ipython3",
   "version": "3.10.9"
  }
 },
 "nbformat": 4,
 "nbformat_minor": 5
}
