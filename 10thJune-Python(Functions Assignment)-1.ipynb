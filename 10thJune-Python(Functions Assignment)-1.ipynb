{
 "cells": [
  {
   "cell_type": "markdown",
   "id": "8cca5938",
   "metadata": {},
   "source": [
    "Assignment-10 June-Python (Functions)"
   ]
  },
  {
   "cell_type": "markdown",
   "id": "5a328bb1",
   "metadata": {},
   "source": [
    "1. In Python, what is the difference between a built-in function and a user-defined function? Provide an\n",
    "example of each.\n",
    "Ans. In Python, built-in functions are those function which already present in python. eg. print() etc.\n",
    "whereas function built by the user for their some specific need are called user designed function"
   ]
  },
  {
   "cell_type": "code",
   "execution_count": 1,
   "id": "93b3874a",
   "metadata": {},
   "outputs": [
    {
     "name": "stdout",
     "output_type": "stream",
     "text": [
      "The sum of 2 and 5 is:  7\n"
     ]
    }
   ],
   "source": [
    "# Example of user defined and built-in functions\n",
    "\n",
    "def add(x, y): # add is user defined function for sum of two numbers\n",
    "    sum = x + y\n",
    "    print(f\"The sum of {x} and {y} is: \", sum)  # print() is built-in function\n",
    "    \n",
    "add(2, 5)"
   ]
  },
  {
   "cell_type": "markdown",
   "id": "16143988",
   "metadata": {},
   "source": [
    "2. How can you pass arguments to a function in Python? Explain the difference between positional\n",
    "arguments and keyword arguments.\n",
    "Ans. Arguments can be passed in a function at the time of calling the function. arguments are passed inside the paranthesis which are separated by commas"
   ]
  },
  {
   "cell_type": "code",
   "execution_count": null,
   "id": "7cc4ea97",
   "metadata": {},
   "outputs": [],
   "source": [
    "def add(x, y): \n",
    "    sum = x + y\n",
    "    print(f\"The sum of {x} and {y} is: \", sum)  \n",
    "    \n",
    "add(2, 5)   # here two arguments (2 & 5) are passed ii add function"
   ]
  },
  {
   "cell_type": "markdown",
   "id": "3b47f2bc",
   "metadata": {},
   "source": [
    "Positional arguments are those arguments that passed in the function where function take these arguments on the basis of the POSITION of their parameter.\n",
    "Eg. in above add function two parameter x, y has arguments 2, 5. Since 2 is first and 5 is second so based on their position x will 2 and y will be 5.\n",
    "\n",
    "Keyword Arguments are the argument which are not based on their position but the value is provide in the argument itself. argument is followed by the keyword in any order.\n",
    "Eg. in above we can pass argument on keyword basis as follows\n",
    "\n",
    "add(y=5, x=2)"
   ]
  },
  {
   "cell_type": "markdown",
   "id": "59827623",
   "metadata": {},
   "source": [
    "3. What is the purpose of the return statement in a function? Can a function have multiple return\n",
    "statements? Explain with an example.\n",
    "Ans. return statement in a function end the execution of the function and return the control to the caller of the function. it return the specific value that function has specified. \n",
    "Function can have a multiple return statements but only one will run based on the condition"
   ]
  },
  {
   "cell_type": "code",
   "execution_count": 11,
   "id": "9f513dd0",
   "metadata": {},
   "outputs": [
    {
     "data": {
      "text/plain": [
       "'One of the number is Zero'"
      ]
     },
     "execution_count": 11,
     "metadata": {},
     "output_type": "execute_result"
    }
   ],
   "source": [
    "# Example of return statement\n",
    "\n",
    "def divide(x, y):\n",
    "    if x == 0 or y == 0:\n",
    "        return \"One of the number is Zero\"\n",
    "    else:\n",
    "        div = x/y\n",
    "        return div\n",
    "        \n",
    "\n",
    "divide(0, 2)"
   ]
  },
  {
   "cell_type": "markdown",
   "id": "ca260c5c",
   "metadata": {},
   "source": [
    "4. What are lambda functions in Python? How are they different from regular functions? Provide an\n",
    "example where a lambda function can be useful.\n",
    "Ans. lambda functions in python are anonymous function which do not have a specific function name like normal function. it can take multiple arguments but evaluate and return only one expression.\n",
    "    lambda function is used to evaluate a only one short expression (usually single line). They are very concise code of mostly one line thus save time of multiline code"
   ]
  },
  {
   "cell_type": "code",
   "execution_count": 15,
   "id": "dbedd04e",
   "metadata": {},
   "outputs": [
    {
     "data": {
      "text/plain": [
       "12"
      ]
     },
     "execution_count": 15,
     "metadata": {},
     "output_type": "execute_result"
    }
   ],
   "source": [
    "#Example of lambda\n",
    "(lambda x, y, z: x + y + z)(7, 8, 5)"
   ]
  },
  {
   "cell_type": "markdown",
   "id": "0f9429ee",
   "metadata": {},
   "source": [
    "5. How does the concept of \"scope\" apply to functions in Python? Explain the difference between local\n",
    "scope and global scope.\n",
    "Ans. Concept of \"scope\" determine how the varible and name are to be used in code. scope of a variable depend on the place where it is declared in coding. According its usage will be determined.\n",
    "Local scope: variable which are declared within the function are called local variable. Their working or usage is available inside that function only.\n",
    "Global Scope: Varibale or name that are declared outside the function are called gobal variable and their scope is both inside and outside the fucntion and can be called any where."
   ]
  },
  {
   "cell_type": "code",
   "execution_count": 20,
   "id": "972b5812",
   "metadata": {},
   "outputs": [
    {
     "name": "stdout",
     "output_type": "stream",
     "text": [
      "15\n"
     ]
    },
    {
     "data": {
      "text/plain": [
       "7"
      ]
     },
     "execution_count": 20,
     "metadata": {},
     "output_type": "execute_result"
    }
   ],
   "source": [
    "# Example of global and local scope\n",
    "\n",
    "a = 7          # a has global scope\n",
    "def add(x, y):\n",
    "    z= x + y   # z has local scope\n",
    "    w = z + a\n",
    "    print(w)\n",
    "add(3, 5)\n",
    "#z\n",
    "a"
   ]
  },
  {
   "cell_type": "markdown",
   "id": "050931e2",
   "metadata": {},
   "source": [
    "6. How can you use the \"return\" statement in a Python function to return multiple values?\n",
    "Ans. return statement in Python function can return multiple values by separating multiple argument by commas"
   ]
  },
  {
   "cell_type": "code",
   "execution_count": 24,
   "id": "a1220bf7",
   "metadata": {},
   "outputs": [
    {
     "data": {
      "text/plain": [
       "('ineuron', 2500, [1, 58, 'apple'])"
      ]
     },
     "execution_count": 24,
     "metadata": {},
     "output_type": "execute_result"
    }
   ],
   "source": [
    "# Example of multiple values using return statement in a function\n",
    "\n",
    "def return_multi():\n",
    "    return \"ineuron\", 2500, [1, 58, \"apple\"]\n",
    "\n",
    "return_multi()"
   ]
  },
  {
   "cell_type": "markdown",
   "id": "3e062cc9",
   "metadata": {},
   "source": [
    "7. What is the difference between the \"pass by value\" and \"pass by reference\" concepts when it\n",
    "comes to function arguments in Python?\n",
    "Ans. In \"pass by value\" concept we passes the value of parameters when the function is called.\n",
    "In \"pass by reference\" concept we pass only the reference of parameter location or address"
   ]
  },
  {
   "cell_type": "markdown",
   "id": "592020fa",
   "metadata": {},
   "source": [
    "8. Create a function that can intake integer or decimal value and do following operations:\n",
    "a. Logarithmic function (log x)\n",
    "b. Exponential function (exp(x))\n",
    "c. Power function with base 2 (2x)\n",
    "d. Square root"
   ]
  },
  {
   "cell_type": "code",
   "execution_count": 34,
   "id": "590b6540",
   "metadata": {},
   "outputs": [
    {
     "name": "stdout",
     "output_type": "stream",
     "text": [
      "Enter the number:2\n",
      "The Log value of 2 is: 0.6931471805599453\n"
     ]
    }
   ],
   "source": [
    "# Function for Log X\n",
    "\n",
    "import math\n",
    "\n",
    "x = int(input(\"Enter the number whose Log Value is to be found:\"))\n",
    "def log_fn(x):\n",
    "    print(f\"The Log value of {x} is:\", math.log(x))\n",
    "    \n",
    "log_fn(x)"
   ]
  },
  {
   "cell_type": "code",
   "execution_count": 36,
   "id": "ef1869fa",
   "metadata": {},
   "outputs": [
    {
     "name": "stdout",
     "output_type": "stream",
     "text": [
      "Enter the number:3\n",
      "The Exponential value of 3 is: 20.085536923187668\n"
     ]
    }
   ],
   "source": [
    "# Function for Exponential\n",
    "\n",
    "import math\n",
    "\n",
    "x = int(input(\"Enter the number whose exponential Value is to be found:\"))\n",
    "\n",
    "def Exp_fn(x):\n",
    "    print(f\"The Exponential value of {x} is:\", math.exp(x))\n",
    "    \n",
    "Exp_fn(x)\n",
    "\n"
   ]
  },
  {
   "cell_type": "code",
   "execution_count": 40,
   "id": "66dbc413",
   "metadata": {},
   "outputs": [
    {
     "name": "stdout",
     "output_type": "stream",
     "text": [
      "Enter the number whose Power to the base 2 is to be found:4\n",
      "The Power with base 2 of 4 is: 16.0\n"
     ]
    }
   ],
   "source": [
    "# Function for Power with base 2\n",
    "\n",
    "import math\n",
    "\n",
    "x = int(input(\"Enter the number whose Power to the base 2 is to be found:\"))\n",
    "\n",
    "def pow_fn(x):\n",
    "    print(f\"The Power with base 2 of {x} is:\", math.pow(2, x))\n",
    "    \n",
    "pow_fn(x)"
   ]
  },
  {
   "cell_type": "code",
   "execution_count": 43,
   "id": "456eae2c",
   "metadata": {},
   "outputs": [
    {
     "name": "stdout",
     "output_type": "stream",
     "text": [
      "Enter the number whose Square Root is to be found:3\n",
      "The Square Root 3 is: 1.7320508075688772\n"
     ]
    }
   ],
   "source": [
    "# Function for Sqaure root\n",
    "\n",
    "import math\n",
    "x = int(input(\"Enter the number whose Square Root is to be found:\"))\n",
    "\n",
    "def sqrt_fn(x):\n",
    "    print(f\"The Square Root {x} is:\", math.sqrt(x))\n",
    "    \n",
    "sqrt_fn(x)"
   ]
  },
  {
   "cell_type": "code",
   "execution_count": 67,
   "id": "5f978335",
   "metadata": {},
   "outputs": [
    {
     "name": "stdout",
     "output_type": "stream",
     "text": [
      "Enter you full name:msdfmf jkewe\n",
      "First Name is: Msdfmf\n",
      "Second Name is: Jkewe\n"
     ]
    }
   ],
   "source": [
    "# 9. Create a function that takes a full name as an argument and returns first name and last name.\n",
    "\n",
    "full_name = input(\"Enter you full name:\")\n",
    "\n",
    "def split_name(full_name):\n",
    "    first = full_name.split()[0]\n",
    "    first_formatted = first.capitalize()\n",
    "    second = full_name.split()[-1]\n",
    "    second_formatted = second.capitalize()\n",
    "    print(\"First Name is:\", first_formatted)\n",
    "    print(\"Second Name is:\", second_formatted)\n",
    "   \n",
    "split_name(full_name)\n"
   ]
  },
  {
   "cell_type": "code",
   "execution_count": null,
   "id": "74bb9352",
   "metadata": {},
   "outputs": [],
   "source": []
  }
 ],
 "metadata": {
  "kernelspec": {
   "display_name": "Python 3 (ipykernel)",
   "language": "python",
   "name": "python3"
  },
  "language_info": {
   "codemirror_mode": {
    "name": "ipython",
    "version": 3
   },
   "file_extension": ".py",
   "mimetype": "text/x-python",
   "name": "python",
   "nbconvert_exporter": "python",
   "pygments_lexer": "ipython3",
   "version": "3.10.9"
  }
 },
 "nbformat": 4,
 "nbformat_minor": 5
}
