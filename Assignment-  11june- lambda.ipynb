{
 "cells": [
  {
   "cell_type": "markdown",
   "id": "43eca414",
   "metadata": {},
   "source": [
    "11th June- Python (Function Assignment)-1"
   ]
  },
  {
   "cell_type": "markdown",
   "id": "3d90da99",
   "metadata": {},
   "source": [
    "1. What is a lambda function in Python, and how does it differ from a regular function?\n",
    "\n",
    "Ans. lambda functions in python are anonymous small code functions. Anonymous means that they do not have a specific name like regular function. They are usually of single line and are useful as they reduce the burden of writing multiple line codding into usually one line.\n",
    "Difference between lambda nad regular functions:\n",
    "1. Lambda functions are anonymous whereas regalur function have name.\n",
    "2. In lambda, statement like loop, if or else cannot be used only expression are allowed.\n",
    "3. Lambda function can have only one expression.\n",
    "4. lambda function do not require return statement as expression is explicitly return\n",
    "5. They cannot be reused through out the code."
   ]
  },
  {
   "cell_type": "markdown",
   "id": "1ec206df",
   "metadata": {},
   "source": [
    "2. Can a lambda function in Python have multiple arguments? If yes, how can you define and use\n",
    "them?\n",
    "\n",
    "Ans. lambda function can have any number of arguments but only one expression.\n",
    "we can have multiple arguments and assign to a varibale like regular function"
   ]
  },
  {
   "cell_type": "code",
   "execution_count": 1,
   "id": "0050b88d",
   "metadata": {},
   "outputs": [
    {
     "data": {
      "text/plain": [
       "30"
      ]
     },
     "execution_count": 1,
     "metadata": {},
     "output_type": "execute_result"
    }
   ],
   "source": [
    "# Example of multiple arguments in lambda function\n",
    "\n",
    "multiply = lambda x, y, z: x * y * z # here we are taking 3 arguments x, y, z\n",
    "\n",
    "multiply(2, 3, 5)"
   ]
  },
  {
   "cell_type": "markdown",
   "id": "a490e2fa",
   "metadata": {},
   "source": [
    "3. How are lambda functions typically used in Python? Provide an example use case.\n",
    "\n",
    "Ans. lambda functions are mostly used when a small function is defined to pass as an argument to another function.\n",
    "they are used whenever there is requirement of the function objects inside the function like map(), reduce() and filter() etc.\n"
   ]
  },
  {
   "cell_type": "code",
   "execution_count": 10,
   "id": "b4b2b560",
   "metadata": {},
   "outputs": [
    {
     "name": "stdout",
     "output_type": "stream",
     "text": [
      "{'name': 'joy', 'marks': 50}\n",
      "{'name': 'Raj', 'marks': 75}\n",
      "{'name': 'virat', 'marks': 90}\n",
      "{'name': 'SRK', 'marks': 95}\n"
     ]
    }
   ],
   "source": [
    "# Used case example\n",
    "# we wnat to rank the students according to their marks\n",
    "\n",
    "st_marks = [\n",
    "    {\"name\": \"Raj\", \"marks\": 75},\n",
    "    {\"name\": \"virat\", \"marks\": 90},\n",
    "    {\"name\": \"SRK\", \"marks\": 95},\n",
    "    {\"name\": \"joy\", \"marks\": 50}\n",
    "]\n",
    "\n",
    "rank = sorted(st_marks, key = lambda x: x[\"marks\"])\n",
    "\n",
    "for st_rank in rank:\n",
    "    print(st_rank)"
   ]
  },
  {
   "cell_type": "markdown",
   "id": "0eb43290",
   "metadata": {},
   "source": [
    "4. What are the advantages and limitations of lambda functions compared to regular functions in\n",
    "Python?\n",
    "Ans. Advantages of lambda functions: 1. use when we wants to define a smal function to be pass as an argument to another function. They are short and do not require return statement thus saves time.\n",
    "Limitations: It can be use once. \n",
    "More complex coding cannot be done.\n",
    "Loop, if , else can't be done in statement form."
   ]
  },
  {
   "cell_type": "markdown",
   "id": "273f22ce",
   "metadata": {},
   "source": [
    "5. Are lambda functions in Python able to access variables defined outside of their own scope?\n",
    "\n",
    "\n",
    "Ans. laqmbda function have their own local namespace and cannot access variable other than those in their parameter list and those in global namespace."
   ]
  },
  {
   "cell_type": "code",
   "execution_count": 3,
   "id": "06a60fbc",
   "metadata": {},
   "outputs": [
    {
     "name": "stdout",
     "output_type": "stream",
     "text": [
      "0\n"
     ]
    },
    {
     "data": {
      "text/plain": [
       "30"
      ]
     },
     "execution_count": 3,
     "metadata": {},
     "output_type": "execute_result"
    }
   ],
   "source": [
    "x = 0\n",
    "sum = lambda x, y:  x + y\n",
    "print(x)\n",
    "sum(10, 20)"
   ]
  },
  {
   "cell_type": "code",
   "execution_count": 14,
   "id": "1c537bf4",
   "metadata": {},
   "outputs": [
    {
     "name": "stdout",
     "output_type": "stream",
     "text": [
      "Enter the number:56\n",
      "3136\n"
     ]
    }
   ],
   "source": [
    "# 6. Write a lambda function to calculate the square of a given number.\n",
    "\n",
    "n = int(input(\"Enter the number:\"))\n",
    "\n",
    "square = lambda n: n ** 2\n",
    "\n",
    "print(square(n))"
   ]
  },
  {
   "cell_type": "code",
   "execution_count": 25,
   "id": "822b24ee",
   "metadata": {},
   "outputs": [
    {
     "name": "stdout",
     "output_type": "stream",
     "text": [
      "<function <lambda> at 0x0000025CA4F315A0>\n"
     ]
    }
   ],
   "source": [
    "#7. Create a lambda function to find the maximum value in a list of integers.\n",
    "\n",
    "list1 = [1, 2, 5, 8, 3, 18]\n",
    "\n",
    "max_num = lambda x, y: x if x > y else y\n",
    "   \n",
    "print(max_num)"
   ]
  },
  {
   "cell_type": "code",
   "execution_count": 21,
   "id": "735b1dca",
   "metadata": {},
   "outputs": [
    {
     "name": "stdout",
     "output_type": "stream",
     "text": [
      "[6, 8, 12]\n"
     ]
    }
   ],
   "source": [
    "# 8. Implement a lambda function to filter out all the even numbers from a list of integers.\n",
    "\n",
    "list1 = [1, 3, 6, 8, 12, 5]\n",
    "even = filter(lambda x: x%2 == 0, list1)\n",
    "print(list(even))"
   ]
  },
  {
   "cell_type": "code",
   "execution_count": 40,
   "id": "9bc934f1",
   "metadata": {},
   "outputs": [
    {
     "name": "stdout",
     "output_type": "stream",
     "text": [
      "['dk', 'raj', 'jack', 'alice', 'salmaan']\n"
     ]
    }
   ],
   "source": [
    "#9. Write a lambda function to sort a list of strings in ascending order based on the length of each string.\n",
    "list1 = [\"raj\", \"alice\", \"jack\", \"salmaan\", \"dk\"]\n",
    "\n",
    "sorted_string = sorted( list1, key=len)\n",
    "print(sorted_string)"
   ]
  },
  {
   "cell_type": "code",
   "execution_count": 21,
   "id": "38da7ffa",
   "metadata": {},
   "outputs": [
    {
     "name": "stdout",
     "output_type": "stream",
     "text": [
      "[4, 9]\n"
     ]
    }
   ],
   "source": [
    "# 10. Create a lambda function that takes two lists as input and \n",
    "#     returns a new list containing the common elements between the two lists.\n",
    "\n",
    "l1 = [1, 3, 4, 5, 7, 9]\n",
    "l2 = [2, 4, 6, 8, 9]\n",
    "common = list(filter(lambda x: x in l1, l2))\n",
    "\n",
    "print(common)"
   ]
  },
  {
   "cell_type": "code",
   "execution_count": 73,
   "id": "01a4372e",
   "metadata": {},
   "outputs": [
    {
     "name": "stdout",
     "output_type": "stream",
     "text": [
      "Enter the number:5\n"
     ]
    },
    {
     "data": {
      "text/plain": [
       "120"
      ]
     },
     "execution_count": 73,
     "metadata": {},
     "output_type": "execute_result"
    }
   ],
   "source": [
    "# 11. Write a recursive function to calculate the factorial of a given positive integer.\n",
    "\n",
    "n = int(input(\"Enter the number:\"))\n",
    "def recursive(n):\n",
    "    if n == 1:\n",
    "        return 1\n",
    "    else:\n",
    "       return  n * recursive(n-1)\n",
    "recursive(5)"
   ]
  },
  {
   "cell_type": "code",
   "execution_count": 1,
   "id": "4c36dc7b",
   "metadata": {},
   "outputs": [
    {
     "name": "stdout",
     "output_type": "stream",
     "text": [
      "Enter the number:7\n"
     ]
    },
    {
     "data": {
      "text/plain": [
       "8"
      ]
     },
     "execution_count": 1,
     "metadata": {},
     "output_type": "execute_result"
    }
   ],
   "source": [
    "# 12. Implement a recursive function to compute the nth Fibonacci number.\n",
    "\n",
    "x = int(input(\"Enter the number:\"))\n",
    "n = x-1\n",
    "def fibonacci(n):\n",
    "    if n < 0:\n",
    "        return 0\n",
    "    elif n == 1:\n",
    "       return 1 \n",
    "    else:\n",
    "        return (fibonacci(n-1) + fibonacci(n-2))\n",
    "           \n",
    "fibonacci(n)\n",
    "    \n",
    "    \n",
    "    \n",
    "    "
   ]
  },
  {
   "cell_type": "code",
   "execution_count": 2,
   "id": "7091ffbf",
   "metadata": {},
   "outputs": [
    {
     "data": {
      "text/plain": [
       "21"
      ]
     },
     "execution_count": 2,
     "metadata": {},
     "output_type": "execute_result"
    }
   ],
   "source": [
    "#13. Create a recursive function to find the sum of all the elements in a given list.\n",
    "\n",
    "list1= [1, 2, 3, 4, 5, 6]\n",
    "\n",
    "def list_sum(list1):\n",
    "    if len(list1) == 0:\n",
    "        return 0\n",
    "    else:\n",
    "        return list1[0]+ list_sum(list1[1:])\n",
    "list_sum(list1)"
   ]
  },
  {
   "cell_type": "code",
   "execution_count": 88,
   "id": "17cc75ac",
   "metadata": {},
   "outputs": [
    {
     "name": "stdout",
     "output_type": "stream",
     "text": [
      "Enter the String: hasjhjas\n"
     ]
    },
    {
     "data": {
      "text/plain": [
       "'It is NOT a Palindrome'"
      ]
     },
     "execution_count": 88,
     "metadata": {},
     "output_type": "execute_result"
    }
   ],
   "source": [
    "# 14. Write a recursive function to determine whether a given string is a palindrome.\n",
    "\n",
    "string = input(\"Enter the String: \")\n",
    "\n",
    "def palindrome(string):\n",
    "    if (string == string[::-1]):\n",
    "        return \"It is Palindrome\"\n",
    "    else:\n",
    "        return \"It is NOT a Palindrome\"\n",
    "palindrome(string)"
   ]
  },
  {
   "cell_type": "code",
   "execution_count": 91,
   "id": "008e57d3",
   "metadata": {},
   "outputs": [
    {
     "name": "stdout",
     "output_type": "stream",
     "text": [
      "Enter the greater number30\n",
      "Enter the smaller number24\n"
     ]
    },
    {
     "data": {
      "text/plain": [
       "6"
      ]
     },
     "execution_count": 91,
     "metadata": {},
     "output_type": "execute_result"
    }
   ],
   "source": [
    "#15. Implement a recursive function to find the greatest common divisor (GCD) of two positive integers.\n",
    "\n",
    "num1 = int(input(\"Enter the greater number: \"))\n",
    "num2 = int(input(\"Enter the smaller number: \"))\n",
    "\n",
    "def gcd(num1, num2):\n",
    "    if num2 == 0:\n",
    "        return num1\n",
    "    else:\n",
    "        return gcd(num2, num1 % num2)\n",
    "gcd(num1, num2)"
   ]
  },
  {
   "cell_type": "code",
   "execution_count": null,
   "id": "53eee07a",
   "metadata": {},
   "outputs": [],
   "source": []
  }
 ],
 "metadata": {
  "kernelspec": {
   "display_name": "Python 3 (ipykernel)",
   "language": "python",
   "name": "python3"
  },
  "language_info": {
   "codemirror_mode": {
    "name": "ipython",
    "version": 3
   },
   "file_extension": ".py",
   "mimetype": "text/x-python",
   "name": "python",
   "nbconvert_exporter": "python",
   "pygments_lexer": "ipython3",
   "version": "3.10.9"
  }
 },
 "nbformat": 4,
 "nbformat_minor": 5
}
