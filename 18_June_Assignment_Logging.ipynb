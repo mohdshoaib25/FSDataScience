{
 "cells": [
  {
   "cell_type": "markdown",
   "id": "29a87534",
   "metadata": {},
   "source": [
    "# Assignment 18-June"
   ]
  },
  {
   "cell_type": "markdown",
   "id": "150a76a1",
   "metadata": {},
   "source": [
    "1. What is the role of the 'else' block in a try-except statement? Provide an example scenario where it would be useful.\n",
    "\n",
    "Ans. 'else' block is executed when in try-except statement try block doesn't give an exception. It allows us to run code without error."
   ]
  },
  {
   "cell_type": "code",
   "execution_count": 1,
   "id": "04dbf9e4",
   "metadata": {},
   "outputs": [
    {
     "name": "stdout",
     "output_type": "stream",
     "text": [
      "Enter Marks Obtain: 80\n",
      "Enter the Total Marks100\n",
      "The percentage marks obtain are: 80.0\n"
     ]
    }
   ],
   "source": [
    "# Example of esle in try-except block\n",
    "\n",
    "try:\n",
    "    x = int(input(\"Enter Marks Obtain: \"))\n",
    "    y = int(input(\"Enter the Total Marks\"))\n",
    "    \n",
    "        \n",
    "except ZeroDivisionError:\n",
    "    \n",
    "    print(\"Total Marks Can't be Zero\")\n",
    "    \n",
    "else:\n",
    "    Result_percent = (x/y) * 100\n",
    "    print(f\"The percentage marks obtain are: {Result_percent}\")\n",
    "    "
   ]
  },
  {
   "cell_type": "markdown",
   "id": "f54838b0",
   "metadata": {},
   "source": [
    "2. Can a try-except block be nested inside another try-except block? Explain with an example.\n",
    "\n",
    "Ans. Nested try-except blocks are possible but each try block should have a corresponding except block. We can have a try-except block inside a try block or except block or finally block."
   ]
  },
  {
   "cell_type": "code",
   "execution_count": 4,
   "id": "0de11fbb",
   "metadata": {},
   "outputs": [
    {
     "name": "stdout",
     "output_type": "stream",
     "text": [
      "Outer try block\n",
      "Inner try block\n",
      "Inner except block \n"
     ]
    }
   ],
   "source": [
    "# Example of nested try-except block\n",
    "\n",
    "try:\n",
    "    print(\"Outer try block\")\n",
    "    \n",
    "    try:\n",
    "        print(\"Inner try block\")\n",
    "        x = 10 / 0\n",
    "    except:\n",
    "        print(\"Inner except block \")\n",
    "\n",
    "except:\n",
    "    print(\"Outer except block\")"
   ]
  },
  {
   "cell_type": "markdown",
   "id": "9a9f25dd",
   "metadata": {},
   "source": [
    "3. How can you create a custom exception class in Python? Provide an example that\n",
    "demonstrates its usage."
   ]
  },
  {
   "cell_type": "code",
   "execution_count": 6,
   "id": "08a2b7bc",
   "metadata": {},
   "outputs": [
    {
     "name": "stdout",
     "output_type": "stream",
     "text": [
      "raised when denominator is Zero\n"
     ]
    }
   ],
   "source": [
    "# Ans. 3 Creating a user defined classs from default Exception class in python\n",
    "\n",
    "class WrongDivision(Exception):\n",
    "    print(\"raised when denominator is Zero\")\n",
    "    pass"
   ]
  },
  {
   "cell_type": "code",
   "execution_count": 7,
   "id": "2259e1ee",
   "metadata": {},
   "outputs": [
    {
     "name": "stdout",
     "output_type": "stream",
     "text": [
      "Enter Marks Obtain: 12\n",
      "Enter the Total Marks0\n",
      "Denominator cannot be Zero, please re-enter the denominator\n"
     ]
    }
   ],
   "source": [
    "try:\n",
    "    x = int(input(\"Enter Marks Obtain: \"))\n",
    "    y = int(input(\"Enter the Total Marks\"))\n",
    "    if y == 0:\n",
    "        raise WrongDivision\n",
    "    else:\n",
    "        result = x / y\n",
    "        print(f\"The result is: {result}\")\n",
    "        \n",
    "except WrongDivision:\n",
    "    print(\"Denominator cannot be Zero, please re-enter the denominator\")"
   ]
  },
  {
   "cell_type": "markdown",
   "id": "24b569b3",
   "metadata": {},
   "source": [
    "4. What are some common exceptions that are built-in to Python?\n",
    "\n",
    "Ans. ZeroDivisionError: Raised when the second argument of a division or modulo operation is zero.\n",
    "\n",
    "TypeError: Raised when an operation or function is applied to an object of inappropriate type.\n",
    "\n",
    "ValueError: Raised when a built-in operation or function receives an argument that has the right type but an inappropriate value.\n",
    "\n",
    "IndexError: Raised when a sequence subscript is out of range.\n",
    "\n",
    "KeyError: Raised when a dictionary key is not found.\n",
    "\n",
    "FileNotFoundError: Raised when a file or directory is requested but doesn’t exist.\n",
    "\n",
    "IOError: Raised when an I/O operation (such as a print statement, the built-in open() function or a method of a file object) fails for an I/O-related reason.\n",
    "\n",
    "ImportError: Raised when an import statement fails to find the module definition or when a from ... import fails to find a name that is to be imported.\n",
    "\n",
    "MemoryError: Raised when an operation runs out of memory.\n",
    "\n",
    "OverflowError: Raised when the result of an arithmetic operation is too large to be expressed by the normal number format.\n",
    "\n",
    "AttributeError: Raised when an attribute reference or assignment fails.\n",
    "\n",
    "SyntaxError: Raised when the parser encounters a syntax error.\n",
    "\n",
    "IndentationError: Raised when there is incorrect indentation.\n",
    "\n",
    "NameError: Raised when a local or global name is not found."
   ]
  },
  {
   "cell_type": "markdown",
   "id": "b4e8e3fd",
   "metadata": {},
   "source": [
    "5. What is logging in Python, and why is it important in software development?\n",
    "\n",
    "Ans. Logging is technique that used to monitor the functioning of a software . It is important for debugging, operation and development and improvement of the software.\n",
    "It makes it very easy to identify the issue and solve as we have logs of the event that happen in execution of the program. thus saves lots of time."
   ]
  },
  {
   "cell_type": "markdown",
   "id": "9c202bb7",
   "metadata": {},
   "source": [
    "6. Explain the purpose of log levels in Python logging and provide examples of when each log level would be appropriate.\n",
    "\n",
    "Ans. The purpose of the log levels is to identify the severity of the issue we have with our code. It will enable us to tackle the error or issue accordingly.\n",
    "Following are the different log levels in the order of increasing severity.\n",
    "1. DEBUG: It gives detailed information about the running of code. it is usually used to diagose the problems.\n",
    "2. INFO: It gives confirmation that things are working as expected.\n",
    "3. WARNING: It gives an indication that something unexpected happened, or may happen in the future.\n",
    "4. ERROR: It tell us the some serious problem has occured that had prevented the software from performing a function.\n",
    "5. CRITICAL: It is very serious error, indicating that the program itself may be unable to continue running."
   ]
  },
  {
   "cell_type": "markdown",
   "id": "58c7c762",
   "metadata": {},
   "source": [
    "7. What are log formatters in Python logging, and how can you customise the log message format using formatters?\n",
    "\n",
    "Ans. Log formatters formats the log message and add more information to log message to make it more meaning full. It makes log more infomative and useful to identiy the issues if any. \n",
    "To customise the log message using formatters, following steps has to taken:\n",
    "1. Create a logger and get the logger instance\n",
    "2. Create a file handler instance and set eh logging level\n",
    "3. Create the formatter, it include theb log timestamp, log level and log message\n",
    "4. Add formatter to the handler\n",
    "5. Add handler to the logger"
   ]
  },
  {
   "cell_type": "markdown",
   "id": "360261ef",
   "metadata": {},
   "source": [
    "8. How can you set up logging to capture log messages from multiple modules or classes in a Python application?\n",
    "\n",
    "Ans. To set up logging to capture log messages from multiple module or classes, we need to extract the root logger by following command, where we can find all the log messages.:\n",
    "logger = loging.getLogger()\n"
   ]
  },
  {
   "cell_type": "markdown",
   "id": "8e7de355",
   "metadata": {},
   "source": [
    "9. What is the difference between the logging and print statements in Python? When should you use logging over print statements in a real-world application?\n",
    "\n",
    "Ans. Logging give the details about all the events that happens during the execution of code whereas print statement will only give particular message for particular problem as get by the programmer.\n",
    "print can be used for small and simple program but complex programmes.\n",
    "We can use logging over print when we are writing bigger and more complex codes. hwen we have to analyse program at every event and need to monitor it for correction and improvement."
   ]
  },
  {
   "cell_type": "markdown",
   "id": "ca21cd01",
   "metadata": {},
   "source": [
    "10. Write a Python program that logs a message to a file named \"app.log\" with the\n",
    "following requirements:\n",
    "● The log message should be \"Hello, World!\"\n",
    "● The log level should be set to \"INFO.\"\n",
    "● The log file should append new log entries without overwriting previous ones."
   ]
  },
  {
   "cell_type": "code",
   "execution_count": 19,
   "id": "bc4567cf",
   "metadata": {},
   "outputs": [
    {
     "name": "stderr",
     "output_type": "stream",
     "text": [
      "INFO:root:Hello World!\n"
     ]
    }
   ],
   "source": [
    "# Ans 10\n",
    "\n",
    "import logging\n",
    "\n",
    "logging.basicConfig(level=logging.INFO)\n",
    "\n",
    "def hello():\n",
    "    logging.info(\"Hello World!\")\n",
    "with open(\"text.txt\",\"w\") as file:\n",
    "    file.write(\"Hello World!\\n\")\n",
    "\n",
    "hello()\n",
    "    \n"
   ]
  },
  {
   "cell_type": "markdown",
   "id": "b5861426",
   "metadata": {},
   "source": [
    "11. Create a Python program that logs an error message to the console and a file named \"errors.log\" if an exception occurs during the program's execution. The error message should include the exception type and a timestamp.\n",
    "\n",
    "Ans. "
   ]
  },
  {
   "cell_type": "code",
   "execution_count": 10,
   "id": "e8a3bd56",
   "metadata": {},
   "outputs": [
    {
     "name": "stderr",
     "output_type": "stream",
     "text": [
      "--- Logging error ---\n",
      "Traceback (most recent call last):\n",
      "  File \"C:\\ProgramData\\anaconda3\\lib\\logging\\__init__.py\", line 1100, in emit\n",
      "    msg = self.format(record)\n",
      "  File \"C:\\ProgramData\\anaconda3\\lib\\logging\\__init__.py\", line 943, in format\n",
      "    return fmt.format(record)\n",
      "  File \"C:\\ProgramData\\anaconda3\\lib\\logging\\__init__.py\", line 681, in format\n",
      "    s = self.formatMessage(record)\n",
      "  File \"C:\\ProgramData\\anaconda3\\lib\\logging\\__init__.py\", line 650, in formatMessage\n",
      "    return self._style.format(record)\n",
      "  File \"C:\\ProgramData\\anaconda3\\lib\\logging\\__init__.py\", line 440, in format\n",
      "    return self._format(record)\n",
      "  File \"C:\\ProgramData\\anaconda3\\lib\\logging\\__init__.py\", line 436, in _format\n",
      "    return self._fmt % values\n",
      "TypeError: not enough arguments for format string\n",
      "Call stack:\n",
      "  File \"C:\\ProgramData\\anaconda3\\lib\\runpy.py\", line 196, in _run_module_as_main\n",
      "    return _run_code(code, main_globals, None,\n",
      "  File \"C:\\ProgramData\\anaconda3\\lib\\runpy.py\", line 86, in _run_code\n",
      "    exec(code, run_globals)\n",
      "  File \"C:\\ProgramData\\anaconda3\\lib\\site-packages\\ipykernel_launcher.py\", line 17, in <module>\n",
      "    app.launch_new_instance()\n",
      "  File \"C:\\ProgramData\\anaconda3\\lib\\site-packages\\traitlets\\config\\application.py\", line 992, in launch_instance\n",
      "    app.start()\n",
      "  File \"C:\\ProgramData\\anaconda3\\lib\\site-packages\\ipykernel\\kernelapp.py\", line 711, in start\n",
      "    self.io_loop.start()\n",
      "  File \"C:\\ProgramData\\anaconda3\\lib\\site-packages\\tornado\\platform\\asyncio.py\", line 199, in start\n",
      "    self.asyncio_loop.run_forever()\n",
      "  File \"C:\\ProgramData\\anaconda3\\lib\\asyncio\\base_events.py\", line 603, in run_forever\n",
      "    self._run_once()\n",
      "  File \"C:\\ProgramData\\anaconda3\\lib\\asyncio\\base_events.py\", line 1906, in _run_once\n",
      "    handle._run()\n",
      "  File \"C:\\ProgramData\\anaconda3\\lib\\asyncio\\events.py\", line 80, in _run\n",
      "    self._context.run(self._callback, *self._args)\n",
      "  File \"C:\\ProgramData\\anaconda3\\lib\\site-packages\\ipykernel\\kernelbase.py\", line 510, in dispatch_queue\n",
      "    await self.process_one()\n",
      "  File \"C:\\ProgramData\\anaconda3\\lib\\site-packages\\ipykernel\\kernelbase.py\", line 499, in process_one\n",
      "    await dispatch(*args)\n",
      "  File \"C:\\ProgramData\\anaconda3\\lib\\site-packages\\ipykernel\\kernelbase.py\", line 406, in dispatch_shell\n",
      "    await result\n",
      "  File \"C:\\ProgramData\\anaconda3\\lib\\site-packages\\ipykernel\\kernelbase.py\", line 729, in execute_request\n",
      "    reply_content = await reply_content\n",
      "  File \"C:\\ProgramData\\anaconda3\\lib\\site-packages\\ipykernel\\ipkernel.py\", line 411, in do_execute\n",
      "    res = shell.run_cell(\n",
      "  File \"C:\\ProgramData\\anaconda3\\lib\\site-packages\\ipykernel\\zmqshell.py\", line 531, in run_cell\n",
      "    return super().run_cell(*args, **kwargs)\n",
      "  File \"C:\\ProgramData\\anaconda3\\lib\\site-packages\\IPython\\core\\interactiveshell.py\", line 2961, in run_cell\n",
      "    result = self._run_cell(\n",
      "  File \"C:\\ProgramData\\anaconda3\\lib\\site-packages\\IPython\\core\\interactiveshell.py\", line 3016, in _run_cell\n",
      "    result = runner(coro)\n",
      "  File \"C:\\ProgramData\\anaconda3\\lib\\site-packages\\IPython\\core\\async_helpers.py\", line 129, in _pseudo_sync_runner\n",
      "    coro.send(None)\n",
      "  File \"C:\\ProgramData\\anaconda3\\lib\\site-packages\\IPython\\core\\interactiveshell.py\", line 3221, in run_cell_async\n",
      "    has_raised = await self.run_ast_nodes(code_ast.body, cell_name,\n",
      "  File \"C:\\ProgramData\\anaconda3\\lib\\site-packages\\IPython\\core\\interactiveshell.py\", line 3400, in run_ast_nodes\n",
      "    if await self.run_code(code, result, async_=asy):\n",
      "  File \"C:\\ProgramData\\anaconda3\\lib\\site-packages\\IPython\\core\\interactiveshell.py\", line 3460, in run_code\n",
      "    exec(code_obj, self.user_global_ns, self.user_ns)\n",
      "  File \"C:\\Users\\Manager\\AppData\\Local\\Temp\\ipykernel_1040\\123654768.py\", line 10, in <module>\n",
      "    logging.error('This message will get logged on to a file')\n",
      "Message: 'This message will get logged on to a file'\n",
      "Arguments: ()\n"
     ]
    }
   ],
   "source": [
    "import logging\n",
    "\n",
    "logger = logging.getLogger('errors.log')\n",
    "logger.setLevel(logging.ERROR)\n",
    "handler = logging.FileHandler('mylog.log')\n",
    "formatter = logging.Formatter('%(asctime)s: % (levelname)s: %(message)s')\n",
    "handler.setFormatter(formatter)\n",
    "logger.addHandler(handler)\n",
    "                    \n",
    "logging.error('This message will get logged on to a file')"
   ]
  },
  {
   "cell_type": "code",
   "execution_count": null,
   "id": "088eeb36",
   "metadata": {},
   "outputs": [],
   "source": []
  }
 ],
 "metadata": {
  "kernelspec": {
   "display_name": "Python 3 (ipykernel)",
   "language": "python",
   "name": "python3"
  },
  "language_info": {
   "codemirror_mode": {
    "name": "ipython",
    "version": 3
   },
   "file_extension": ".py",
   "mimetype": "text/x-python",
   "name": "python",
   "nbconvert_exporter": "python",
   "pygments_lexer": "ipython3",
   "version": "3.10.9"
  }
 },
 "nbformat": 4,
 "nbformat_minor": 5
}
