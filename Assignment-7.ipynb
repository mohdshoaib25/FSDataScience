{
 "cells": [
  {
   "cell_type": "markdown",
   "id": "2ce349e2",
   "metadata": {},
   "source": [
    "Q.1. Create two int type variables, apply addition, subtraction, division and multiplications\n",
    "and store the results in variables. Then print the data in the following format by calling the\n",
    "variables:\n",
    "First variable is __ & second variable is __.\n",
    "Addition: __ + __ = __\n",
    "Subtraction: __ - __ = __\n",
    "Multiplication: __ * __ = __\n",
    "Division: __ / __ = __\n"
   ]
  },
  {
   "cell_type": "code",
   "execution_count": 9,
   "id": "c82bfaca",
   "metadata": {},
   "outputs": [
    {
     "name": "stdout",
     "output_type": "stream",
     "text": [
      "Addition: 45 + 36 = 81\n",
      "Subtraction: 45 - 36 = 9\n",
      "Multiplication: 45 * 36 = 1620\n",
      "Division: 45 / 36 = 1.25\n"
     ]
    }
   ],
   "source": [
    "# Ans.1\n",
    "\n",
    "x = 45\n",
    "y = 36\n",
    "\n",
    "# Addition\n",
    "add = x + y\n",
    "# Substraction\n",
    "sub = x - y\n",
    "#Multiplication\n",
    "mult = x * y\n",
    "# Division\n",
    "div = x / y\n",
    "\n",
    "print(\"Addition:\", x, \"+\", y, \"=\", add)\n",
    "print(\"Subtraction:\", x, \"-\", y, \"=\", sub)\n",
    "print(\"Multiplication:\", x, \"*\", y, \"=\", mult)\n",
    "print(\"Division:\", x, \"/\", y, \"=\", div)"
   ]
  },
  {
   "cell_type": "markdown",
   "id": "233c48c2",
   "metadata": {},
   "source": [
    "Q.2. What is the difference between the following operators:\n",
    "(i) ‘/’ & ‘//’\n",
    "(ii) ‘**’ & ‘^’"
   ]
  },
  {
   "cell_type": "markdown",
   "id": "e07e84c8",
   "metadata": {},
   "source": [
    "Ans2. (i) '/' is a division operator which gives quotient as an answer. (a / b). Whereas '//' is floor division operator which give the quotient value which is not in decimal. i.e. all value before decimal.\n",
    "\n",
    "(ii). '**' is an exponential operator which give exponential value. (2 ** 3 will return 8), Whereas '^' is bitwise XOR operator that compare each bit of first operand with corresponding bit of the second operand"
   ]
  },
  {
   "cell_type": "markdown",
   "id": "9ea5d2e4",
   "metadata": {},
   "source": [
    "Q.3. List the logical operators."
   ]
  },
  {
   "cell_type": "code",
   "execution_count": null,
   "id": "075beb8f",
   "metadata": {},
   "outputs": [],
   "source": [
    "Ans 3. List of Logical Operators is as follows:\n",
    "    1. and (which work if both the statements are true)\n",
    "    2. or (If anyone of the statement is true)\n",
    "    3. not (Return the reverse result)"
   ]
  },
  {
   "cell_type": "markdown",
   "id": "c5b07a86",
   "metadata": {},
   "source": [
    "Q.4. Explain right shift operator and left shift operator with examples."
   ]
  },
  {
   "cell_type": "code",
   "execution_count": 11,
   "id": "b15951b3",
   "metadata": {},
   "outputs": [
    {
     "data": {
      "text/plain": [
       "5"
      ]
     },
     "execution_count": 11,
     "metadata": {},
     "output_type": "execute_result"
    }
   ],
   "source": [
    "#Ans 4. Right Shift operator shift the bits of the number to the right by number of bits specified. It is denoted by '>>'\n",
    "a = 10  #  in binary 1010\n",
    "z = a >> 2 # it will shift to right so result will 0010 in binary which is equal to 2 in decimal\n",
    "print(z)"
   ]
  },
  {
   "cell_type": "code",
   "execution_count": 13,
   "id": "a9c6b464",
   "metadata": {},
   "outputs": [
    {
     "name": "stdout",
     "output_type": "stream",
     "text": [
      "40\n"
     ]
    }
   ],
   "source": [
    "# Ans.4 Left shift denoted by '<<' will shift the bits of a number to the left by number specified in question,\n",
    "\n",
    "a = 10 # in binary 1010\n",
    "L = a << 2 # bits will be shifted to 2 place left so result in binary 101000 which is 40 in decimal\n",
    "print(L)"
   ]
  },
  {
   "cell_type": "markdown",
   "id": "36cf563d",
   "metadata": {},
   "source": [
    "Q.5. Create a list containing int type data of length 15. Then write a code to check if 10 is\n",
    "present in the list or not."
   ]
  },
  {
   "cell_type": "code",
   "execution_count": 16,
   "id": "8fa412c1",
   "metadata": {},
   "outputs": [
    {
     "name": "stdout",
     "output_type": "stream",
     "text": [
      "15\n",
      "10 is present in the list at index no. 9\n"
     ]
    }
   ],
   "source": [
    "# Ans.5\n",
    "\n",
    "list = [1, 22, 3, 34, 5, 6, 67, 8, 9, 10, 11, 12, 13, 14, 15]\n",
    "\n",
    "print(len(list))\n",
    "\n",
    "# Program to found if 10 is present in the list\n",
    "n = 10\n",
    "\n",
    "if n in list:\n",
    "    print(n, \"is present in the list at index no.\", list.index(n))\n",
    "    \n",
    "else:\n",
    "    print(n, \"is NOT present in the list\")"
   ]
  },
  {
   "cell_type": "code",
   "execution_count": null,
   "id": "d2f2d546",
   "metadata": {},
   "outputs": [],
   "source": []
  }
 ],
 "metadata": {
  "kernelspec": {
   "display_name": "Python 3 (ipykernel)",
   "language": "python",
   "name": "python3"
  },
  "language_info": {
   "codemirror_mode": {
    "name": "ipython",
    "version": 3
   },
   "file_extension": ".py",
   "mimetype": "text/x-python",
   "name": "python",
   "nbconvert_exporter": "python",
   "pygments_lexer": "ipython3",
   "version": "3.10.9"
  }
 },
 "nbformat": 4,
 "nbformat_minor": 5
}
