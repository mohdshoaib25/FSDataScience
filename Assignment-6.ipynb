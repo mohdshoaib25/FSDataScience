{
 "cells": [
  {
   "cell_type": "markdown",
   "id": "799d795b",
   "metadata": {},
   "source": [
    "Q.1. What are keywords in python? Using the keyword library, print all the python keywords.\n",
    "\n",
    "Ans. Keywords in some predefined and specific reserved words in python which cannot be used for any other purpose other than defined for them. They cannot be used as identifiers, variable, function name."
   ]
  },
  {
   "cell_type": "code",
   "execution_count": 6,
   "id": "f6434a26",
   "metadata": {},
   "outputs": [
    {
     "name": "stdout",
     "output_type": "stream",
     "text": [
      "['False', 'None', 'True', 'and', 'as', 'assert', 'async', 'await', 'break', 'class', 'continue', 'def', 'del', 'elif', 'else', 'except', 'finally', 'for', 'from', 'global', 'if', 'import', 'in', 'is', 'lambda', 'nonlocal', 'not', 'or', 'pass', 'raise', 'return', 'try', 'while', 'with', 'yield']\n"
     ]
    }
   ],
   "source": [
    "import keyword\n",
    "print(keyword.kwlist)"
   ]
  },
  {
   "cell_type": "markdown",
   "id": "dd54d642",
   "metadata": {},
   "source": [
    "Q.2. What are the rules to create variables in python?\n"
   ]
  },
  {
   "cell_type": "markdown",
   "id": "aad115a9",
   "metadata": {},
   "source": [
    "Ans2. Rules to create variable are:\n",
    "i. It can be a combination of A-Z, a-z, 0-9, _(underscore)\n",
    "ii. It should start with an alphabet character or _(underscore) but not with a number.\n",
    "iii. It should not be a pyhton keyword\n",
    "iv. It should not contain any blan space.\n",
    "v. It should NOT contain any special character other than underscore(_)"
   ]
  },
  {
   "cell_type": "markdown",
   "id": "1b91029c",
   "metadata": {},
   "source": [
    "Q.3. What are the standards and conventions followed for the nomenclature of variables in\n",
    "python to improve code readability and maintainability?"
   ]
  },
  {
   "cell_type": "markdown",
   "id": "2d9eb0dd",
   "metadata": {},
   "source": [
    "Ans3. 1. Variable should start with lower case.\n",
    "      2. Use underscore (_) to join two word for meaning full variable\n",
    "      3. Avoid starting with underscore, use it for special purpose only\n",
    "      4. use two underscore at the begning if required.\n",
    "      5. Avoid using name that too general or wordy."
   ]
  },
  {
   "cell_type": "markdown",
   "id": "0a4ccd74",
   "metadata": {},
   "source": [
    "Q.4. What will happen if a keyword is used as a variable name?"
   ]
  },
  {
   "cell_type": "markdown",
   "id": "1bdd1c67",
   "metadata": {},
   "source": [
    "Ans4. keyword have a very specific function assign to it within pyhton language. They cannot be used as a variable.\n",
    "An error can be thrown if we try to use a keyword as variable or we would not the accurate result."
   ]
  },
  {
   "cell_type": "markdown",
   "id": "72750aa1",
   "metadata": {},
   "source": [
    "Q.5. For what purpose def keyword is used?"
   ]
  },
  {
   "cell_type": "markdown",
   "id": "5a416040",
   "metadata": {},
   "source": [
    "Ans5. def keyword is used to create or define a fucntion in python.\n",
    "e.g.\n",
    "def <function name>():"
   ]
  },
  {
   "cell_type": "markdown",
   "id": "30534dff",
   "metadata": {},
   "source": [
    "Q.6. What is the operation of this special character ‘\\’?\n",
    "Ans. '\\' backslash is special character, also called the escape character in python.\n",
    "It is used for some whitespace character like '\\t' represent the 1 tab white space, '\\n' represent the new line etc."
   ]
  },
  {
   "cell_type": "markdown",
   "id": "2532bc7e",
   "metadata": {},
   "source": [
    "Q.7. Give an example of the following conditions:\n",
    "(i) Homogeneous list\n",
    "(ii) Heterogeneous set\n",
    "(iii) Homogeneous tuple"
   ]
  },
  {
   "cell_type": "code",
   "execution_count": 14,
   "id": "876c67c9",
   "metadata": {},
   "outputs": [
    {
     "name": "stdout",
     "output_type": "stream",
     "text": [
      "['India', 'UK', 'US']\n",
      "<class 'list'>\n",
      "{True, 'India', 10, 23.32}\n",
      "<class 'set'>\n",
      "('python', 'ML', 'java')\n",
      "<class 'tuple'>\n"
     ]
    }
   ],
   "source": [
    "# Ans\n",
    "homogeneous_list = ['India', 'UK', 'US'] # it contains same type of data, here it is string\n",
    "hetrogeneous_set = {'India', 10, 23.32, True} # it contains different types of data\n",
    "homogeneous_tuple = ('python', 'ML', 'java') # it is homogeneous as it contain only string\n",
    "\n",
    "print(homogeneous_list)\n",
    "print(type(homogeneous_list))\n",
    "\n",
    "print(hetrogeneous_set)\n",
    "print(type(hetrogeneous_set))\n",
    "\n",
    "print(homogeneous_tuple)\n",
    "print(type(homogeneous_tuple))"
   ]
  },
  {
   "cell_type": "markdown",
   "id": "c9ff12ab",
   "metadata": {},
   "source": [
    "Q.8. Explain the mutable and immutable data types with proper explanation & examples.\n"
   ]
  },
  {
   "cell_type": "markdown",
   "id": "a0c2a7f2",
   "metadata": {},
   "source": [
    "Ans8. Mutable data type are those whose value can be changed or mutate after they have been created eg. list\n",
    "Whereas the immutable data type are those whose value cannnot be changed after they have been created e.g Tuple. "
   ]
  },
  {
   "cell_type": "code",
   "execution_count": 17,
   "id": "9a396f7e",
   "metadata": {},
   "outputs": [
    {
     "name": "stdout",
     "output_type": "stream",
     "text": [
      "[1, 2, 3, 55]\n",
      "[1, 2, 3, 55, 99]\n"
     ]
    }
   ],
   "source": [
    "list1 = [1, 2, 3, 55]\n",
    "print(list1)\n",
    "\n",
    "list1.append(99) # in list new item can be added or remove i.e mutated\n",
    "print(list1)"
   ]
  },
  {
   "cell_type": "code",
   "execution_count": 20,
   "id": "8f767399",
   "metadata": {},
   "outputs": [
    {
     "name": "stdout",
     "output_type": "stream",
     "text": [
      "(1, 2, 3, 55)\n"
     ]
    },
    {
     "ename": "AttributeError",
     "evalue": "'tuple' object has no attribute 'append'",
     "output_type": "error",
     "traceback": [
      "\u001b[1;31m---------------------------------------------------------------------------\u001b[0m",
      "\u001b[1;31mAttributeError\u001b[0m                            Traceback (most recent call last)",
      "Cell \u001b[1;32mIn[20], line 4\u001b[0m\n\u001b[0;32m      1\u001b[0m tuple1 \u001b[38;5;241m=\u001b[39m (\u001b[38;5;241m1\u001b[39m, \u001b[38;5;241m2\u001b[39m, \u001b[38;5;241m3\u001b[39m, \u001b[38;5;241m55\u001b[39m)\n\u001b[0;32m      2\u001b[0m \u001b[38;5;28mprint\u001b[39m(tuple1)\n\u001b[1;32m----> 4\u001b[0m \u001b[43mtuple1\u001b[49m\u001b[38;5;241;43m.\u001b[39;49m\u001b[43mappend\u001b[49m(\u001b[38;5;241m99\u001b[39m)\n\u001b[0;32m      5\u001b[0m \u001b[38;5;28mprint\u001b[39m(tuple1)\n",
      "\u001b[1;31mAttributeError\u001b[0m: 'tuple' object has no attribute 'append'"
     ]
    }
   ],
   "source": [
    "tuple1 = (1, 2, 3, 55)\n",
    "print(tuple1)\n",
    "\n",
    "tuple1.append(99) # tuple NO new item can be added or remove i.e immutable\n",
    "print(tuple1)"
   ]
  },
  {
   "cell_type": "code",
   "execution_count": 77,
   "id": "4d25c1f7",
   "metadata": {},
   "outputs": [
    {
     "name": "stdout",
     "output_type": "stream",
     "text": [
      "    *   \n",
      "   *  *   \n",
      "  *  *  *   \n",
      " *  *  *  *   \n",
      "*  *  *  *  *   \n"
     ]
    }
   ],
   "source": [
    "#Q.9. Write a code to create the given structure using only for loop.\n",
    "\n",
    "n = 5\n",
    "k = n - 1\n",
    "for i in range(0, n):\n",
    "    for j in range(0, k):\n",
    "        print(end= \" \")\n",
    "    \n",
    "    k = k - 1\n",
    "    for j in range(0, i + 1):\n",
    "        print(\"* \", end=\" \")\n",
    "    \n",
    "    print(\" \")\n"
   ]
  },
  {
   "cell_type": "code",
   "execution_count": null,
   "id": "7dc13be2",
   "metadata": {},
   "outputs": [],
   "source": [
    "# Q.10. Write a code to create the given structure using while loop.\n"
   ]
  },
  {
   "cell_type": "code",
   "execution_count": 4,
   "id": "d2204aa9",
   "metadata": {},
   "outputs": [
    {
     "name": "stdout",
     "output_type": "stream",
     "text": [
      "| | | | | | | | | \n",
      " | | | | | | | \n",
      "   | | | | | \n",
      "     | | | \n",
      "       | \n"
     ]
    }
   ],
   "source": [
    "n = 5\n",
    "k = n - 1\n",
    "for i in range(n, 0, -1):\n",
    "\n",
    "    for j in range(k, 3):\n",
    "        print(end= \" \")\n",
    "    \n",
    "    k = k - 2\n",
    "    for j in range(0, (2*i)-1):\n",
    "        print(\"|\", end=\" \")\n",
    "    \n",
    "    print(\"\")"
   ]
  },
  {
   "cell_type": "markdown",
   "id": "464a47ab",
   "metadata": {},
   "source": [
    "### "
   ]
  },
  {
   "cell_type": "code",
   "execution_count": null,
   "id": "ff0bda0b",
   "metadata": {},
   "outputs": [],
   "source": []
  }
 ],
 "metadata": {
  "kernelspec": {
   "display_name": "Python 3 (ipykernel)",
   "language": "python",
   "name": "python3"
  },
  "language_info": {
   "codemirror_mode": {
    "name": "ipython",
    "version": 3
   },
   "file_extension": ".py",
   "mimetype": "text/x-python",
   "name": "python",
   "nbconvert_exporter": "python",
   "pygments_lexer": "ipython3",
   "version": "3.10.9"
  }
 },
 "nbformat": 4,
 "nbformat_minor": 5
}
