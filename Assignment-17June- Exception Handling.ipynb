{
 "cells": [
  {
   "cell_type": "markdown",
   "id": "0e57ba5e",
   "metadata": {},
   "source": [
    "1. What is the role of try and exception block?\n",
    "\n",
    "Ans. Try block has coding which might raise error or exception and exception block conatins the code that will be executed if the exception is raised in try block"
   ]
  },
  {
   "cell_type": "markdown",
   "id": "bcfffc8e",
   "metadata": {},
   "source": [
    "2. What is the syntax for a basic try-except block?\n",
    "\n",
    "Ans. try:\n",
    "        [block of code which might raise an exception]\n",
    "     \n",
    "     except:\n",
    "         [if try block raise an exception then this code will be executed]\n",
    "         "
   ]
  },
  {
   "cell_type": "markdown",
   "id": "e970ed34",
   "metadata": {},
   "source": [
    "3. What happens if an exception occurs inside a try block and there is no matching except block?\n",
    "\n",
    "Ans. If there is exception in the try block and it doesn't have a matching except block than it will automatically goes to finally or other try and it will showns the error message."
   ]
  },
  {
   "cell_type": "code",
   "execution_count": 2,
   "id": "950a440f",
   "metadata": {},
   "outputs": [
    {
     "ename": "SyntaxError",
     "evalue": "incomplete input (3935049024.py, line 2)",
     "output_type": "error",
     "traceback": [
      "\u001b[1;36m  Cell \u001b[1;32mIn[2], line 2\u001b[1;36m\u001b[0m\n\u001b[1;33m    print(x)\u001b[0m\n\u001b[1;37m            ^\u001b[0m\n\u001b[1;31mSyntaxError\u001b[0m\u001b[1;31m:\u001b[0m incomplete input\n"
     ]
    }
   ],
   "source": [
    "# Example for Q-3\n",
    "try:\n",
    "  print(x)\n"
   ]
  },
  {
   "cell_type": "markdown",
   "id": "f7f9b9aa",
   "metadata": {},
   "source": [
    "4. What is the difference between using a bare except block and specifying a specific exception type?\n",
    "\n",
    "Ans. Bare except block catches all the exception thrown by the try block whereas specific exception block will catches only the specific exception as specified in except block.\n"
   ]
  },
  {
   "cell_type": "markdown",
   "id": "4a6772da",
   "metadata": {},
   "source": [
    "5. Can you have nested try-except blocks in Python? If yes, then give an example.\n",
    "\n",
    "Ans. We can have a nested try-except block in python. If an exception is raised in the nested try block, the nested except block is used to handle it. In case the nested except is not able to handle it, the outer except blocks are used to handle the exception."
   ]
  },
  {
   "cell_type": "code",
   "execution_count": 6,
   "id": "af2737f0",
   "metadata": {},
   "outputs": [
    {
     "name": "stdout",
     "output_type": "stream",
     "text": [
      "Outer try block\n",
      "Nested try block\n",
      "Outer except block\n",
      "There is an Error: Division by zero is not allowed.\n"
     ]
    }
   ],
   "source": [
    "#Example Q5, Nested try-except block\n",
    "\n",
    "x = 20\n",
    "y = 0\n",
    "\n",
    "try:\n",
    "    print(\"Outer try block\")\n",
    "    \n",
    "    try:\n",
    "        print(\"Nested try block\")\n",
    "        z = x / y\n",
    "    except TypeError:\n",
    "        print(\"Nested except block\")\n",
    "        print(\"There is Type Error\")\n",
    "\n",
    "except ZeroDivisionError:\n",
    "    print(\"Outer except block\")\n",
    "    print(\"There is an Error: Division by zero is not allowed.\")\n"
   ]
  },
  {
   "cell_type": "code",
   "execution_count": null,
   "id": "30baf5f0",
   "metadata": {},
   "outputs": [],
   "source": [
    "6. Can we use multiple exception blocks, if yes then give an example\n",
    "\n",
    "Ans. Yes we can use multiple exception blocks in python."
   ]
  },
  {
   "cell_type": "code",
   "execution_count": 9,
   "id": "da0b0cd7",
   "metadata": {},
   "outputs": [
    {
     "name": "stdout",
     "output_type": "stream",
     "text": [
      "Enter the first number: 8\n",
      "Enter the second number: 0\n",
      "Division by zero is not allowed.\n"
     ]
    }
   ],
   "source": [
    "# Example of multiple exception block\n",
    "\n",
    "\n",
    "try:\n",
    "    x = int(input(\"Enter the first number: \"))\n",
    "    y = int(input(\"Enter the second number: \"))\n",
    "\n",
    "    result = x / y\n",
    "    print(\"Result: \", result)\n",
    "    \n",
    "except ValueError:\n",
    "    print(\"Please Enter the valid integers\")\n",
    "    \n",
    "except ZeroDivisionError:\n",
    "    print(\"Division by zero is not allowed.\")"
   ]
  },
  {
   "cell_type": "markdown",
   "id": "fa8b6d4c",
   "metadata": {},
   "source": [
    "7. Write the reason due to which following errors are raised:\n",
    "\n",
    "Ans. \n",
    "a. EOFError - This error is raised when input() function hit end-of-file condition.\n",
    "\n",
    "b. FloatingPointError- This error is raised when floating point operation fails\n",
    "\n",
    "c. IndexError- This error is raised when sequence subscript index goes out of range\n",
    "\n",
    "d. MemoryError- This error is raised when operation went out of memory.\n",
    "\n",
    "e. OverflowError- This error is raised when result of an airthmatic operation is too large to express.\n",
    "\n",
    "f. TabError- This error is raised when indentation contains mixed tabs and spaces.\n",
    "\n",
    "g. ValueError- This error is raised when an in-built operation or a function recieves an argument that has has right type but inappropriate  value.\n"
   ]
  },
  {
   "cell_type": "markdown",
   "id": "7940b7a9",
   "metadata": {},
   "source": [
    "8. Write code for the following given scenario and add try-exception block to it.\n",
    "a. Program to divide two numbers\n",
    "b. Program to convert a string to an integer\n",
    "c. Program to access an element in a list\n",
    "d. Program to handle a specific exception\n",
    "e. Program to handle any exception"
   ]
  },
  {
   "cell_type": "code",
   "execution_count": 12,
   "id": "2c6cfe2b",
   "metadata": {},
   "outputs": [
    {
     "name": "stdout",
     "output_type": "stream",
     "text": [
      "Enter the Numerator8\n",
      "Enter the Denominator0\n",
      "Division by zero is not allowed.\n"
     ]
    }
   ],
   "source": [
    "# a. Program to divide two numbers \n",
    "\n",
    "try:\n",
    "    x = int(input(\"Enter the Numerator\"))\n",
    "    y = int(input(\"Enter the Denominator\"))\n",
    "    result = x / y\n",
    "    print(\"The result is: \", result)\n",
    "    \n",
    "\n",
    "except ValueError:\n",
    "    print(\"Please enter valid integers for the numerator and denominator.\")\n",
    "\n",
    "except ZeroDivisionError:\n",
    "    print(\"Division by zero is not allowed.\")\n",
    "    "
   ]
  },
  {
   "cell_type": "code",
   "execution_count": 16,
   "id": "c82cb355",
   "metadata": {},
   "outputs": [
    {
     "name": "stdout",
     "output_type": "stream",
     "text": [
      " the result: <class 'int'> 30\n"
     ]
    }
   ],
   "source": [
    "# b. Program to convert a string to an integer\n",
    "\n",
    "try:\n",
    "    a_str = \"30\"\n",
    "    \n",
    "    result = int(a_str) \n",
    "    print(\" the result:\", type(result), result)\n",
    "    \n",
    "except:\n",
    "    print(\"Value entered in not string \")"
   ]
  },
  {
   "cell_type": "code",
   "execution_count": 23,
   "id": "85920657",
   "metadata": {},
   "outputs": [
    {
     "name": "stdout",
     "output_type": "stream",
     "text": [
      "enter the number to be accessed: 5\n",
      "Element out of range\n"
     ]
    }
   ],
   "source": [
    "# c. Program to access an element in a list\n",
    "\n",
    "try:\n",
    "    n = int(input(\"enter the number to be accessed: \"))\n",
    "    list1 = [1, 2, 3,4]\n",
    "    print(list1[n])\n",
    "except:\n",
    "    print(\"Element out of range\")"
   ]
  },
  {
   "cell_type": "code",
   "execution_count": 26,
   "id": "2ed122c9",
   "metadata": {},
   "outputs": [
    {
     "name": "stdout",
     "output_type": "stream",
     "text": [
      "Enter the first number: 9\n",
      "Enter the second number: 0\n",
      "Division by zero is not allowed.\n"
     ]
    }
   ],
   "source": [
    "# d. Program to handle a specific exception\n",
    "\n",
    "try:\n",
    "    x = int(input(\"Enter the first number: \"))\n",
    "    y = int(input(\"Enter the second number: \"))\n",
    "\n",
    "    result = x / y\n",
    "    print(\"Result: \", result)\n",
    "    \n",
    "except ValueError:\n",
    "    print(\"Please Enter the valid integers\")\n",
    "    \n",
    "except ZeroDivisionError:\n",
    "    print(\"Division by zero is not allowed.\")"
   ]
  },
  {
   "cell_type": "code",
   "execution_count": 24,
   "id": "8e971707",
   "metadata": {},
   "outputs": [
    {
     "name": "stdout",
     "output_type": "stream",
     "text": [
      "Enter the first number: 8\n",
      "Enter the second number: 0\n",
      "Please check the numbers\n"
     ]
    }
   ],
   "source": [
    "# e. Program to handle any exception\n",
    "try:\n",
    "    x = int(input(\"Enter the first number: \"))\n",
    "    y = int(input(\"Enter the second number: \"))\n",
    "\n",
    "    result = x / y\n",
    "    print(\"Result: \", result)\n",
    "    \n",
    "except:\n",
    "    print(\"Please check the numbers\")\n"
   ]
  },
  {
   "cell_type": "code",
   "execution_count": null,
   "id": "860fa9e8",
   "metadata": {},
   "outputs": [],
   "source": []
  }
 ],
 "metadata": {
  "kernelspec": {
   "display_name": "Python 3 (ipykernel)",
   "language": "python",
   "name": "python3"
  },
  "language_info": {
   "codemirror_mode": {
    "name": "ipython",
    "version": 3
   },
   "file_extension": ".py",
   "mimetype": "text/x-python",
   "name": "python",
   "nbconvert_exporter": "python",
   "pygments_lexer": "ipython3",
   "version": "3.10.9"
  }
 },
 "nbformat": 4,
 "nbformat_minor": 5
}
