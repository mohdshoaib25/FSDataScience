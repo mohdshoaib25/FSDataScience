{
 "cells": [
  {
   "cell_type": "markdown",
   "id": "43c69bd6",
   "metadata": {},
   "source": [
    "1.What are the two values of the Boolean data type? How do you write them?\n",
    "\n",
    "Ans. Two values for Boolean Data Types are True and False.\n",
    "They are written as \n",
    "True\n",
    "Flase\n"
   ]
  },
  {
   "cell_type": "markdown",
   "id": "df10e564",
   "metadata": {},
   "source": [
    "2. What are the three different types of Boolean operators?\n",
    "\n",
    "Ans. Three Types of Boolean Operators are:\n",
    "1.\tand\n",
    "2.\tor\n",
    "3.\tnot\n"
   ]
  },
  {
   "cell_type": "markdown",
   "id": "daf92f7d",
   "metadata": {},
   "source": [
    "3. Make a list of each Boolean operator's truth tables (i.e. every possible combination of Boolean values for the operator and what it evaluate ).\n",
    "\n",
    "Ans.  Truth Table for A and B\n",
    "Conditions\tA\t   B\t   Return Value\n",
    "    1.\t   True\t   True\t   True\n",
    "    2.\t   True\t   False   False\n",
    "    3.\t   False   True\t   False\n",
    "    4.\t   False   False   False\n",
    "\n",
    "Truth Table for A or B\n",
    "Conditions\tA\t   B\t   Return Value\n",
    "    1.\t   True\t   True\t   True\n",
    "    2.\t   True\t   False   True\n",
    "    3.\t   False   True\t   True\n",
    "    4.\t   False   False   False\n",
    "\n",
    "Truth Table for Not A\n",
    "Conditions\tA\t   \t  Return Value\n",
    "    1.\t   True\t   \t  False\n",
    "    2.\t   False\t  True\n",
    "\n"
   ]
  },
  {
   "cell_type": "markdown",
   "id": "3d8d834f",
   "metadata": {},
   "source": [
    "4. What are the values of the following expressions?\n",
    "(5 > 4) and (3 == 5) \n",
    "Ans. False \n",
    "\n",
    "not (5 > 4)\n",
    "Ans. False\n",
    "\n",
    "(5 > 4) or (3 == 5)\n",
    "Ans. True\n",
    "\n",
    "not ((5 > 4) or (3 == 5))\n",
    "Ans. False\n",
    "\n",
    "(True and True) and (True == False)\n",
    "Ans. False\n",
    "\n",
    "(not False) or (not True)\n",
    "True\n"
   ]
  },
  {
   "cell_type": "markdown",
   "id": "0aa47aa4",
   "metadata": {},
   "source": [
    "5. What are the six comparison operators?\n",
    "\n",
    "Ans. Six Comparison Operators are:\n",
    "1.\t> \t(Greater Than)\n",
    "2.\t<  \t(Less Than)\n",
    "3.\t>= \t(Greater Than Equal to)\n",
    "4.\t<=\t(Less Than Equal to)\n",
    "5.\t== \t(Equal to)\n",
    "6.\t!= \t(Not Equal to)\n"
   ]
  },
  {
   "cell_type": "markdown",
   "id": "115e8b3a",
   "metadata": {},
   "source": [
    "6. How do you tell the difference between the equal to and assignment operators?Describe a condition and when you would use one.\n",
    "Ans. Equal to operator is written as ‘==’ [two = equal sign] where as assignment operator equal has one equal sign ‘='.\n",
    "\n",
    "Equal to operator (==) is comparison operator used for to compare two variable or identifiers for their equality.\n",
    "e.g.:  A == B  # means to check it A and B are equal or not. It return True or False value\n",
    "\n",
    "Equal (=) is an assignment operator use to assign a particular value to the variable.\n",
    "E.g.: x = 5 , here we have assigned a value 5 to the variable x, so x will store 5 in it.\n"
   ]
  },
  {
   "cell_type": "markdown",
   "id": "02358df2",
   "metadata": {},
   "source": [
    "7. Identify the three blocks in this code:"
   ]
  },
  {
   "cell_type": "code",
   "execution_count": 1,
   "id": "0c95e875",
   "metadata": {},
   "outputs": [
    {
     "name": "stdout",
     "output_type": "stream",
     "text": [
      "ham\n",
      "spam\n",
      "spam\n"
     ]
    }
   ],
   "source": [
    "spam = 0\n",
    "if spam == 10:       # Block is everthing written inside if statement\n",
    "    print('eggs')    # 1st Block\n",
    "if spam > 5:\n",
    "    print('bacon')   # 2nd Block\n",
    "else:\n",
    "    print('ham')     # 3rd Block\n",
    "print('spam')\n",
    "print('spam')\n"
   ]
  },
  {
   "cell_type": "code",
   "execution_count": 2,
   "id": "674396d6",
   "metadata": {},
   "outputs": [
    {
     "name": "stdout",
     "output_type": "stream",
     "text": [
      "Enter the value of spam: 5\n",
      "Greetings!\n"
     ]
    }
   ],
   "source": [
    "# Q8. Write code that prints Hello if 1 is stored in spam, prints Howdy if 2 is stored in spam, \n",
    "#     and prints Greetings! if anything else is stored in spam.\n",
    " \n",
    "spam = int(input(\"Enter the value of spam: \"))\n",
    "\n",
    "if spam == 1:\n",
    "    print(\"Hello\")\n",
    "\n",
    "elif spam == 2:\n",
    "    print(\"Howdy\")\n",
    "\n",
    "else:\n",
    "    print(\"Greetings!\")\n"
   ]
  },
  {
   "cell_type": "markdown",
   "id": "c21adadd",
   "metadata": {},
   "source": [
    "9. If your programme is stuck in an endless loop, what keys you’ll press?\n",
    "Ans. crtl+C"
   ]
  },
  {
   "cell_type": "markdown",
   "id": "34d058ad",
   "metadata": {},
   "source": [
    "10. How can you tell the difference between break and continue?\n",
    "\n",
    "Ans. break: terminate the flow of a loop when certain condition is met.\n",
    "     continue: skip the remaining codes inside loop for the current iteration."
   ]
  },
  {
   "cell_type": "markdown",
   "id": "720da645",
   "metadata": {},
   "source": [
    "11. In a for loop, what is the difference between range(10), range(0, 10), and range(0, 10, 1)?\n",
    "\n",
    "Ans: range(10) : it tell the loop to iterate 10 times. It is a stop value of the sequence.\n",
    "     range(0, 10) : here 0 is the start value and 10 is the stop value of the sequence in the loop.\n",
    "     range(0, 10, 1) : Here again 0 is the start value, 10 is the stop value, and 2 is the step value in a loop. \n",
    "     start value tell from where to start the series or sequence from. It bydefault 0\n",
    "     Stop value tell where to stop the series. It doesn't include the said no. as squence starts from 0.\n",
    "     Step value it tells the deffrence between the two sequence or no. it is bydefault 1."
   ]
  },
  {
   "cell_type": "code",
   "execution_count": 5,
   "id": "e6b97cdf",
   "metadata": {},
   "outputs": [
    {
     "name": "stdout",
     "output_type": "stream",
     "text": [
      "1\n",
      "2\n",
      "3\n",
      "4\n",
      "5\n",
      "6\n",
      "7\n",
      "8\n",
      "9\n",
      "10\n"
     ]
    }
   ],
   "source": [
    "#Q12. Write a short program that prints the numbers 1 to 10 using a for loop. \n",
    "#    Then write an equivalent program that prints the numbers 1 to 10 using a while loop.\n",
    "i = 1\n",
    "for i in range(1, 11):\n",
    "    print(i)\n",
    "\n"
   ]
  },
  {
   "cell_type": "code",
   "execution_count": 9,
   "id": "c8b4cb4b",
   "metadata": {},
   "outputs": [
    {
     "name": "stdout",
     "output_type": "stream",
     "text": [
      "1\n",
      "2\n",
      "3\n",
      "4\n",
      "5\n",
      "6\n",
      "7\n",
      "8\n",
      "9\n",
      "10\n"
     ]
    }
   ],
   "source": [
    "x =1\n",
    "while x <= 10:\n",
    "    print(x)\n",
    "    x +=  1"
   ]
  },
  {
   "cell_type": "markdown",
   "id": "cd893749",
   "metadata": {},
   "source": [
    "13. If you had a function named bacon() inside a module named spam, how would you call it after importing spam?\n",
    "\n",
    "Ans. \n",
    "pip import spam\n",
    "\n",
    "spam.bacon()"
   ]
  }
 ],
 "metadata": {
  "kernelspec": {
   "display_name": "Python 3 (ipykernel)",
   "language": "python",
   "name": "python3"
  },
  "language_info": {
   "codemirror_mode": {
    "name": "ipython",
    "version": 3
   },
   "file_extension": ".py",
   "mimetype": "text/x-python",
   "name": "python",
   "nbconvert_exporter": "python",
   "pygments_lexer": "ipython3",
   "version": "3.10.9"
  }
 },
 "nbformat": 4,
 "nbformat_minor": 5
}
