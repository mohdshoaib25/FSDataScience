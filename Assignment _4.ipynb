{
 "cells": [
  {
   "cell_type": "markdown",
   "id": "07702d80",
   "metadata": {},
   "source": [
    "1. What exactly is []?\n",
    "Ans. [] denote the empty list.\n",
    "eg: empty_list = []"
   ]
  },
  {
   "cell_type": "markdown",
   "id": "1b5a0ff0",
   "metadata": {},
   "source": [
    "2. In a list of values stored in a variable called spam, how would you assign the value 'hello' as the\n",
    "third value? (Assume [2, 4, 6, 8, 10] are in spam.)"
   ]
  },
  {
   "cell_type": "code",
   "execution_count": 1,
   "id": "7080a9e8",
   "metadata": {},
   "outputs": [
    {
     "name": "stdout",
     "output_type": "stream",
     "text": [
      "[2, 4, 'hello', 8, 10]\n"
     ]
    }
   ],
   "source": [
    "# Ans\n",
    "spam = [2, 4, 6, 8, 10]\n",
    "spam[2] = 'hello'\n",
    "print(spam)"
   ]
  },
  {
   "cell_type": "markdown",
   "id": "575651ce",
   "metadata": {},
   "source": [
    "Let&#39;s pretend the spam includes the list ['a', 'b', 'c', 'd'] for the next three queries."
   ]
  },
  {
   "cell_type": "markdown",
   "id": "7edf4c0b",
   "metadata": {},
   "source": [
    "3. What is the value of spam[int(int('3'*2)/11)]?"
   ]
  },
  {
   "cell_type": "code",
   "execution_count": 4,
   "id": "c778d24d",
   "metadata": {},
   "outputs": [
    {
     "name": "stdout",
     "output_type": "stream",
     "text": [
      "d\n"
     ]
    }
   ],
   "source": [
    "# Ans:\n",
    "spam = ['a', 'b', 'c', 'd']\n",
    "ans = spam[int(int('3'*2)/11)]  # '3'*2 = 33; 33/11 = 3; hence ans is spam[3] which is 'd'\n",
    "print(ans)"
   ]
  },
  {
   "cell_type": "markdown",
   "id": "88e1fc97",
   "metadata": {},
   "source": [
    "4. What is the value of spam[-1]?"
   ]
  },
  {
   "cell_type": "code",
   "execution_count": 6,
   "id": "c681af41",
   "metadata": {},
   "outputs": [
    {
     "name": "stdout",
     "output_type": "stream",
     "text": [
      "d\n"
     ]
    }
   ],
   "source": [
    "# Ans:\n",
    "ans = spam[-1] # since negative index value start from reverse, hence -1 will be first value from reverse i.e. 'd'\n",
    "print(ans)"
   ]
  },
  {
   "cell_type": "markdown",
   "id": "33f9e1b6",
   "metadata": {},
   "source": [
    "5. What is the value of spam[:2]?\n",
    "\n",
    "Ans: Spam[:2], it doesn't give start index value hence it will take default index value as 0, stop index value is 2.\n",
    "hence it will take index value 0, 1.\n",
    "ans will be 'a' 'b'"
   ]
  },
  {
   "cell_type": "code",
   "execution_count": 8,
   "id": "d1d54a1c",
   "metadata": {},
   "outputs": [
    {
     "name": "stdout",
     "output_type": "stream",
     "text": [
      "['a', 'b']\n"
     ]
    }
   ],
   "source": [
    "# Ans: 5\n",
    "spam = ['a', 'b', 'c', 'd']\n",
    "ans = spam[:2]\n",
    "print(ans)"
   ]
  },
  {
   "cell_type": "markdown",
   "id": "1fbe701e",
   "metadata": {},
   "source": [
    "Lets pretend bacon has the list [3.14, 'cat', 11, 'cat', True] for the next three questions.\n",
    "6. What is the value of bacon.index('cat')?\n",
    "Ans: here we are asking for the index value of 'cat' in the list. whenever it encounter 'cat' first it will give that index value.\n",
    "hence answer will be 1"
   ]
  },
  {
   "cell_type": "code",
   "execution_count": null,
   "id": "d9806db3",
   "metadata": {},
   "outputs": [],
   "source": [
    "7. How does bacon.append(99) change the look of the list value in bacon?\n",
    "Ans: it will append the value 99 next to the last index value.\n",
    "    hence list will be [3.14, 'cat', 11, 'cat', True, 99]"
   ]
  },
  {
   "cell_type": "code",
   "execution_count": 11,
   "id": "9be85f00",
   "metadata": {},
   "outputs": [
    {
     "name": "stdout",
     "output_type": "stream",
     "text": [
      "[3.14, 11, 'cat', True]\n"
     ]
    }
   ],
   "source": [
    "bacon = [3.14, 'cat', 11, 'cat', True]\n",
    "bacon.remove('cat')\n",
    "print(bacon)"
   ]
  },
  {
   "cell_type": "markdown",
   "id": "c0bac83d",
   "metadata": {},
   "source": [
    "8. How does bacon.remove('cat') change the look of the list in bacon?\n",
    "Ans: above function will remove the 'cat' fr4om the list, which it encounter the first in the list\n",
    "Hence list will [3.14, 11, 'cat', True]"
   ]
  },
  {
   "cell_type": "markdown",
   "id": "0de76976",
   "metadata": {},
   "source": [
    "9. What are the list concatenation and list replication operators?\n",
    "Ans: List concatenation operator is '+'\n",
    "     List replication operators is '*'"
   ]
  },
  {
   "cell_type": "markdown",
   "id": "0794f963",
   "metadata": {},
   "source": [
    "10. What is difference between the list methods append() and insert()?\n",
    "Ans. list.append() will add the item or element at the end of list only.\n",
    "     list.insert() will insert the item or element anywhere in the list as per user choice"
   ]
  },
  {
   "cell_type": "markdown",
   "id": "91166a7a",
   "metadata": {},
   "source": [
    "11. What are the two methods for removing items from a list?\n",
    "Ans. remove() and del are two method for removing the items from the list.\n",
    "list.remove() # here we specify the item to be removed.\n",
    "del list[] # we given the index no. of the value to be removed. Also we can range of items to be removed as well.\n"
   ]
  },
  {
   "cell_type": "markdown",
   "id": "88efd549",
   "metadata": {},
   "source": [
    "12. Describe how list values and string values are identical.\n",
    "Ans. Both list values and string values has many similarity.\n",
    "They both can be concatenated, replicated. They have index. can be used in loops and can be assigned the opertaors."
   ]
  },
  {
   "cell_type": "markdown",
   "id": "38f0b6e6",
   "metadata": {},
   "source": [
    "13. What&#39;s the difference between tuples and lists?\n",
    "Ans. lists are collection of ordered items, which are mutable and are declared in square brackets [].\n",
    "     tuples are also the collection of ordered items or elements but they are Immutable in nature. they are declared within paranthesis {}."
   ]
  },
  {
   "cell_type": "markdown",
   "id": "e58ba845",
   "metadata": {},
   "source": [
    "14. How do you type a tuple value that only contains the integer 42?\n",
    "Ans. tuple = (42,) \n",
    "In case of single variable tuple, comma (,) is added to the end of the variable to be recognised as tuple."
   ]
  },
  {
   "cell_type": "markdown",
   "id": "2b6ca625",
   "metadata": {},
   "source": [
    "15. How do you get a list value's tuple form? How do you get a tuple value's list form?\n",
    "Ans. List can converted to tuple using tuple() and tuple to list via list() fucntions"
   ]
  },
  {
   "cell_type": "markdown",
   "id": "0b1db366",
   "metadata": {},
   "source": [
    "16. Variables that \"contain\" list values are not necessarily lists themselves. Instead, what do they\n",
    "contain?\n",
    "Ans. Variables that contains the list values are not necessarily list themselves but it contains the reference to the list values."
   ]
  },
  {
   "cell_type": "markdown",
   "id": "4bbf4ec2",
   "metadata": {},
   "source": [
    "17. How do you distinguish between copy.copy() and copy.deepcopy()?\n",
    "Ans. copy.copy() does the shallow copy of the object. It creats the reference to the original object. if original object is changes the copy will change.\n",
    "copy.deepcopy() does the deep copy of the objects. It creats a new object abd recursively insert in it the copies original object. hence if the original is changed deep copy will not change."
   ]
  }
 ],
 "metadata": {
  "kernelspec": {
   "display_name": "Python 3 (ipykernel)",
   "language": "python",
   "name": "python3"
  },
  "language_info": {
   "codemirror_mode": {
    "name": "ipython",
    "version": 3
   },
   "file_extension": ".py",
   "mimetype": "text/x-python",
   "name": "python",
   "nbconvert_exporter": "python",
   "pygments_lexer": "ipython3",
   "version": "3.10.9"
  }
 },
 "nbformat": 4,
 "nbformat_minor": 5
}
