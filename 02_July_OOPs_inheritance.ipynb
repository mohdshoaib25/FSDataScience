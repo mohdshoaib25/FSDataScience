{
 "cells": [
  {
   "cell_type": "markdown",
   "id": "9249b21e",
   "metadata": {},
   "source": [
    "1. Explain what inheritance is in object-oriented programming and why it is used.\n",
    "\n",
    "Ans. Inheritance in object-oriented programming is a mechanism that allows a class to inherit the properties and behaviour of anohter existing class. The new class is called \"Derived Class\" or \"Child Class\" while the existing class is called \"Parent class\" or \"base class\".\n",
    "Inheritance provide code reusability and abstraction etc. Now we can inherit even the abstract classes and class with constructor"
   ]
  },
  {
   "cell_type": "markdown",
   "id": "438b4206",
   "metadata": {},
   "source": [
    "2. Discuss the concept of single inheritance and multiple inheritance, highlighting their differences and advantages.\n",
    "\n",
    "Ans. Single Inheritance is a form of inheritance where a class inherits only single parent class. It is very simple form of inheritance hence also called Simple Inheritance.\n",
    "\n",
    "Multiple Inheritance is form inheritance where a class inherits more than one parent class. It inherits the properties of all the Parent Classes and has an access to their objects. It more complicated and difficult to maintain then single inheritance."
   ]
  },
  {
   "cell_type": "markdown",
   "id": "55380217",
   "metadata": {},
   "source": [
    "3. Explain the terms \"base class\" and \"derived class\" in the context of inheritance\n",
    "\n",
    "Ans. \"derived class\" also called as 'child class' is a class that inherits the properties of the 'parent class' also called as 'base class'. Derived class has an access to all the objects of the base class."
   ]
  },
  {
   "cell_type": "markdown",
   "id": "bee74224",
   "metadata": {},
   "source": [
    "4. What is the significance of the \"protected\" access modifier in inheritance? How does it differ from \"private\" and \"public\" modifiers?\n",
    "\n",
    "Ans. 'protected' access modifier can be accessable the method or dtat member of the calss from within or outisde the package but only through Inheritance. They have more accessability than 'private' and 'public' modifiers. Public modifiers are accessable to anywhere whereas 'private' modifiers are acccessable in the class they are declared."
   ]
  },
  {
   "cell_type": "markdown",
   "id": "7eec8984",
   "metadata": {},
   "source": [
    "5. What is the purpose of the \"super\" keyword in inheritance? Provide an example.\n",
    "\n",
    "Ans. The super keyword refers to  parent class objects. It is used to call parent class methods, and to access the parent class constructor. The most common use of the super keyword is to eliminate the confusion between superclasses and subclasses that have methods with the same name."
   ]
  },
  {
   "cell_type": "code",
   "execution_count": 3,
   "id": "fcae1ace",
   "metadata": {},
   "outputs": [
    {
     "name": "stdout",
     "output_type": "stream",
     "text": [
      "This is a Child class\n",
      "This the Parent classs\n"
     ]
    }
   ],
   "source": [
    "class Parent:\n",
    "    def method1(self):\n",
    "        print(\"This the Parent classs\")\n",
    "        \n",
    "class Child(Parent):\n",
    "    def method2(self):\n",
    "        print(\"This is a Child class\")\n",
    "        \n",
    "        super(Child, self).method1() # here we are calling parent object through child class\n",
    "        \n",
    "obj1 = Parent()\n",
    "obj2 = Child()\n",
    "\n",
    "obj2.method2()"
   ]
  },
  {
   "cell_type": "markdown",
   "id": "55be7677",
   "metadata": {},
   "source": [
    "6. Create a base class called \"Vehicle\" with attributes like \"make\", \"model\", and \"year\". Then, create a derived class called \"Car\" that inherits from \"Vehicle\" and adds an attribute called \"fuel_type\". Implement appropriate methods in both classes.\n"
   ]
  },
  {
   "cell_type": "code",
   "execution_count": 23,
   "id": "6b45aa4f",
   "metadata": {},
   "outputs": [],
   "source": [
    "class Vehicle:\n",
    "    def __init__(self, make, model, year):\n",
    "        self.make = make\n",
    "        self.model = model\n",
    "        self.year = year\n",
    "    def display_info(self):\n",
    "        print(f\"The {self.make} is of Model {self.model}, manufactured in the year {self.year}\")\n",
    "        \n"
   ]
  },
  {
   "cell_type": "code",
   "execution_count": 26,
   "id": "28dfd64e",
   "metadata": {},
   "outputs": [],
   "source": [
    "class Car(Vehicle):\n",
    "    def __init__(self, make, model, year, fuel_type):\n",
    "        \n",
    "        super().__init__(make, model, year)\n",
    "        self.fuel_type = fuel_type\n",
    "    def display_info(self):\n",
    "        super().display_info()\n",
    "        print(\"The Fuel Type\", self.fuel_type)"
   ]
  },
  {
   "cell_type": "code",
   "execution_count": 27,
   "id": "9f5c4dd6",
   "metadata": {},
   "outputs": [
    {
     "name": "stdout",
     "output_type": "stream",
     "text": [
      "The 4-wheeler is of Model Honda, manufactured in the year 2022\n",
      "The Fuel Type Petrol\n"
     ]
    }
   ],
   "source": [
    "\n",
    "car1 = Car(\"4-wheeler\", \"Honda\", 2022, \"Petrol\")\n",
    "\n",
    "car1.display_info()"
   ]
  },
  {
   "cell_type": "markdown",
   "id": "6107aa1b",
   "metadata": {},
   "source": [
    "7. Create a base class called \"Employee\" with attributes like \"name\" and \"salary.\" Derive two classes, \"Manager\" and \"Developer,\" from \"Employee.\" Add an additional attribute called \"department\" for the \"Manager\" class and \"programming_language\" for the \"Developer\" class."
   ]
  },
  {
   "cell_type": "code",
   "execution_count": 34,
   "id": "049d7f5f",
   "metadata": {},
   "outputs": [],
   "source": [
    "class Employee:\n",
    "    def __init__(self, name, salary):\n",
    "        self.name = name\n",
    "        self.salary = salary\n",
    "    def display_info(self):\n",
    "        print(f\"Employee name is {self.name} and his Salary is Rs. {self.salary}\")\n",
    "        \n",
    "class Manager(Employee):\n",
    "    def __init__(self, name, salary, department):\n",
    "        super().__init__(name, salary)\n",
    "        self.department = department\n",
    "        \n",
    "    def display_info1(self):\n",
    "        super().display_info()\n",
    "        print(\"Managers Department is: \", self.department)\n",
    "        \n",
    "class Developer(Employee):\n",
    "    def __init__(self, name, salary, programming_language):\n",
    "        super().__init__(name, salary)\n",
    "        self.programming_language = programming_language\n",
    "        \n",
    "    def display_info2(self):\n",
    "        super().display_info()\n",
    "        print(\"Developers Programming Language is: \", self.programming_language)\n",
    "        "
   ]
  },
  {
   "cell_type": "code",
   "execution_count": 35,
   "id": "d9943adf",
   "metadata": {},
   "outputs": [
    {
     "name": "stdout",
     "output_type": "stream",
     "text": [
      "Employee name is Krish and his Salary is Rs. 200000\n",
      "Managers Department is:  IT\n"
     ]
    }
   ],
   "source": [
    "manager1= Manager(\"Krish\", 200000, \"IT\")\n",
    "manager1.display_info1()"
   ]
  },
  {
   "cell_type": "code",
   "execution_count": 36,
   "id": "cabb8bbe",
   "metadata": {},
   "outputs": [
    {
     "name": "stdout",
     "output_type": "stream",
     "text": [
      "Employee name is Krish and his Salary is Rs. 200000\n",
      "Developers Programming Language is:  AI\n"
     ]
    }
   ],
   "source": [
    "developer1 = Developer(\"Krish\", 200000, \"AI\")\n",
    "developer1.display_info2()"
   ]
  },
  {
   "cell_type": "markdown",
   "id": "ecd884d3",
   "metadata": {},
   "source": [
    "8. Design a base class called \"Shape\" with attributes like \"colour\" and \"border_width.\"\n",
    "Create derived classes, \"Rectangle\" and \"Circle,\" that inherit from \"Shape\" and add specific attributes like \"length\" and \"width\" for the \"Rectangle\" class and \"radius\" for the \"Circle\" class.\n"
   ]
  },
  {
   "cell_type": "code",
   "execution_count": 41,
   "id": "b2e33634",
   "metadata": {},
   "outputs": [],
   "source": [
    "class Shape:\n",
    "    def __init__(self, colour, border_width):\n",
    "        self.colour = colour\n",
    "        self.border_width = border_width\n",
    "    def display1(self):\n",
    "        print(f\"The colour is {self.colour} and border width is {self.border_width}\")\n",
    "        \n",
    "class Rectangle(Shape):\n",
    "    def __init__(self, colour, border_width, length, width):\n",
    "        super().__init__(colour, border_width)\n",
    "        self.length = length\n",
    "        self.width = width\n",
    "        \n",
    "    def display2(self):\n",
    "        super().display1()\n",
    "        print(f\"The Rectangle has length as {self.length}, Width as {self.width}, colour as {self.colour} and borfer width as {self.border_width}\")"
   ]
  },
  {
   "cell_type": "code",
   "execution_count": 46,
   "id": "5de22d33",
   "metadata": {},
   "outputs": [],
   "source": [
    "class Circle(Shape):\n",
    "    def __init__(self, colour, border_width, radius):\n",
    "        super().__init__(colour, border_width)\n",
    "        self.radius = radius\n",
    "                \n",
    "    def display3(self):\n",
    "        super().display1()\n",
    "        print(f\"The Circle has radius as {self.radius}, colour as {self.colour} and border width as {self.border_width}\")"
   ]
  },
  {
   "cell_type": "code",
   "execution_count": 44,
   "id": "0f66a907",
   "metadata": {},
   "outputs": [
    {
     "name": "stdout",
     "output_type": "stream",
     "text": [
      "The colour is blue and border width is 2\n",
      "The Rectangle has length as 16, Width as 9, colour as blue and borfer width as 2\n"
     ]
    }
   ],
   "source": [
    "rectangle1 = Rectangle(\"blue\", 2, 16, 9)\n",
    "rectangle1.display2()"
   ]
  },
  {
   "cell_type": "code",
   "execution_count": 47,
   "id": "4bd954af",
   "metadata": {},
   "outputs": [
    {
     "name": "stdout",
     "output_type": "stream",
     "text": [
      "The colour is Red and border width is 2\n",
      "The Circle has radius as 5, colour as Red and border width as 2\n"
     ]
    }
   ],
   "source": [
    "circle1 = Circle(\"Red\", 2, 5)\n",
    "circle1.display3()"
   ]
  },
  {
   "cell_type": "markdown",
   "id": "91d04aa9",
   "metadata": {},
   "source": [
    "9. Create a base class called \"Device\" with attributes like \"brand\" and \"model.\" Derive two classes, \"Phone\" and \"Tablet,\" from \"Device.\" Add specific attributes like \"screen_size\" for the \"Phone\" class and \"battery_capacity\" for the \"Tablet\" class"
   ]
  },
  {
   "cell_type": "code",
   "execution_count": 49,
   "id": "f316f061",
   "metadata": {},
   "outputs": [],
   "source": [
    "class Device:\n",
    "    def __init__(self, brand, model):\n",
    "        self.brand = brand\n",
    "        self.model = model\n",
    "    def display1(self):\n",
    "        print(f\"The device is of brand {self.brand} and model {self.model}\")"
   ]
  },
  {
   "cell_type": "code",
   "execution_count": 54,
   "id": "49d0a3cc",
   "metadata": {},
   "outputs": [
    {
     "name": "stdout",
     "output_type": "stream",
     "text": [
      "The device is of brand Apple and model 8i\n",
      "Phone screen size is 22''\n"
     ]
    }
   ],
   "source": [
    "class Phone(Device):\n",
    "    def __init__(self, brand, model, screen_size):\n",
    "        super().__init__(brand, model)\n",
    "        self.screen_size = screen_size\n",
    "    def display2(self):\n",
    "        super().display1()\n",
    "        print(f\"Phone screen size is {self.screen_size}\")\n",
    "\n",
    "phone1 = Phone(\"Apple\", \"8i\", \"22''\")\n",
    "phone1.display2()"
   ]
  },
  {
   "cell_type": "code",
   "execution_count": 55,
   "id": "852f6de8",
   "metadata": {},
   "outputs": [
    {
     "name": "stdout",
     "output_type": "stream",
     "text": [
      "The device is of brand Apple and model 8i\n",
      "Phone screen size is 5000\n"
     ]
    }
   ],
   "source": [
    "class Tablet(Device):\n",
    "    def __init__(self, brand, model, battery_capacity):\n",
    "        super().__init__(brand, model)\n",
    "        self.battery_capacity = battery_capacity\n",
    "    def display3(self):\n",
    "        super().display1()\n",
    "        print(f\"Phone screen size is {self.battery_capacity}\")\n",
    "\n",
    "tablet1 = Tablet(\"Apple\", \"8i\", \"5000\")\n",
    "tablet1.display3()"
   ]
  },
  {
   "cell_type": "markdown",
   "id": "dbdb7f4f",
   "metadata": {},
   "source": [
    "10. Create a base class called \"BankAccount\" with attributes like \"account_number\" and \"balance.\" Derive two classes, \"SavingsAccount\" and \"CheckingAccount,\" from \"BankAccount.\" Add specific methods like \"calculate_interest\" for the\n",
    "\"SavingsAccount\" class and \"deduct_fees\" for the \"CheckingAccount\" class.\n"
   ]
  },
  {
   "cell_type": "code",
   "execution_count": 10,
   "id": "3dd9c440",
   "metadata": {},
   "outputs": [],
   "source": [
    "class BankAccount:\n",
    "    def __init__(self, account_number, balance):\n",
    "        self.account_number = account_number\n",
    "        self.balance = balance\n",
    "    def display1(self):\n",
    "        print(f\"The balance of Account Number {self.account_number} is {self.balance}\")"
   ]
  },
  {
   "cell_type": "code",
   "execution_count": 11,
   "id": "f54e9d22",
   "metadata": {},
   "outputs": [
    {
     "name": "stdout",
     "output_type": "stream",
     "text": [
      "The Interest on Account Number 123654 having balance 500000 is 15000.0\n",
      "New balance is: Rs. 515000.0\n"
     ]
    }
   ],
   "source": [
    "class SavingsAccount(BankAccount):\n",
    "    def __init__(self,account_number, balance, int_rate):\n",
    "        super().__init__(account_number, balance)\n",
    "        self.int_rate = int_rate\n",
    "        \n",
    "    def calculate_interest(self):\n",
    "        Interest  = self.balance *  self.int_rate/100\n",
    "        new_balance = self.balance + Interest\n",
    "        print(f\"The Interest on Account Number {self.account_number} having balance {self.balance} is {Interest}\")\n",
    "        print(\"New balance is: Rs.\", new_balance)\n",
    "        \n",
    "savingsaccount = SavingsAccount(\"123654\", 500000, 3)\n",
    "savingsaccount.calculate_interest()"
   ]
  },
  {
   "cell_type": "code",
   "execution_count": 13,
   "id": "e303e11a",
   "metadata": {},
   "outputs": [
    {
     "name": "stdout",
     "output_type": "stream",
     "text": [
      "The Fee Deducted on Account Number 123654 having balance 500000 is 1200 and final balance is 498800\n"
     ]
    }
   ],
   "source": [
    "class CheckingAccount(BankAccount):\n",
    "    def __init__(self,account_number, balance, fine):\n",
    "        super().__init__(account_number, balance)\n",
    "        self.fine = fine\n",
    "    def deduct_fee(self):\n",
    "        new_balance  = self.balance - self.fine\n",
    "        print(f\"The Fee Deducted on Account Number {self.account_number} having balance {self.balance} is {self.fine} and final balance is {new_balance}\")\n",
    "checkingaccount = CheckingAccount(\"123654\", 500000, 1200)\n",
    "checkingaccount.deduct_fee()"
   ]
  },
  {
   "cell_type": "code",
   "execution_count": null,
   "id": "55b45fb7",
   "metadata": {},
   "outputs": [],
   "source": []
  }
 ],
 "metadata": {
  "kernelspec": {
   "display_name": "Python 3 (ipykernel)",
   "language": "python",
   "name": "python3"
  },
  "language_info": {
   "codemirror_mode": {
    "name": "ipython",
    "version": 3
   },
   "file_extension": ".py",
   "mimetype": "text/x-python",
   "name": "python",
   "nbconvert_exporter": "python",
   "pygments_lexer": "ipython3",
   "version": "3.10.9"
  }
 },
 "nbformat": 4,
 "nbformat_minor": 5
}
