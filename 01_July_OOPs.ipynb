{
 "cells": [
  {
   "cell_type": "markdown",
   "id": "c61e7160",
   "metadata": {},
   "source": [
    "1. What is the primary goal of Object-Oriented Programming (OOP)?\n",
    "\n",
    "Ans. The Primary goal of Object-Oriented Programming (OOP) is Robustness , Adaptability and Reusability. "
   ]
  },
  {
   "cell_type": "markdown",
   "id": "3f4ecfbd",
   "metadata": {},
   "source": [
    "2. What is an object in Python?\n",
    "\n",
    "Ans. Class in Pyhton is blue print of a program whereas an Object is an instance of a class. Object or instance is a copy of a class with real values."
   ]
  },
  {
   "cell_type": "markdown",
   "id": "3cd27b52",
   "metadata": {},
   "source": [
    "3. What is a class in Python?\n",
    "\n",
    "Ans. Class is code blue print of an object. It is like a object construtor which has all the atttirbutes and methods."
   ]
  },
  {
   "cell_type": "markdown",
   "id": "7830a78a",
   "metadata": {},
   "source": [
    "4. What are attributes and methods in a class?\n",
    "\n",
    "Ans. Any Variable that is bound in the class are attributes. It is a instance variable defined in the class.\n",
    "Methods are any function that is defined within the class. They have access to the class attributes."
   ]
  },
  {
   "cell_type": "markdown",
   "id": "4a6efaa8",
   "metadata": {},
   "source": [
    "5. What is the difference between class variables and instance variables in Python?\n",
    "\n",
    "Ans. Class variable or attributes are the variable which are bound in the class itself. They are unique for all the instances of the class. \n",
    "Instance Variable are those variable which store data that is unique to that particular instance only."
   ]
  },
  {
   "cell_type": "markdown",
   "id": "0aa4eb8c",
   "metadata": {},
   "source": [
    "6. What is the purpose of the self parameter in Python class methods?\n",
    "\n",
    "Ans.self parameter represent the instance of the class and is used to access variables that belongs to the class."
   ]
  },
  {
   "cell_type": "markdown",
   "id": "293d1b00",
   "metadata": {},
   "source": [
    "7. For a library management system, you have to design the \"Book\" class with OOP principles in mind. The “Book” class will have following attributes:\n",
    "a. title: Represents the title of the book.\n",
    "b. author: Represents the author(s) of the book.\n",
    "c. isbn: Represents the ISBN (International Standard Book Number) of the book.\n",
    "d. publication_year: Represents the year of publication of the book.\n",
    "e. available_copies: Represents the number of copies available for checkout.\n",
    "The class will also include the following methods:\n",
    "a. check_out(self): Decrements the available copies by one if there are copies\n",
    "available for checkout.\n",
    "b. return_book(self): Increments the available copies by one when a book is\n",
    "returned.\n",
    "c. display_book_info(self): Displays the information about the book, including its\n",
    "attributes and the number of available copies."
   ]
  },
  {
   "cell_type": "code",
   "execution_count": 34,
   "id": "ab808775",
   "metadata": {},
   "outputs": [],
   "source": [
    "class Book:\n",
    "    def __init__(self, title, author, isbn, publication_year, available_copies):\n",
    "        self.title = title\n",
    "        self.author = author\n",
    "        self.isbn = isbn\n",
    "        self.publication_year = publication_year\n",
    "        self.available_copies = available_copies\n",
    "        \n",
    "    def check_out(self):\n",
    "        self.available_copies = self.available_copies - 1\n",
    "        \n",
    "    \n",
    "    def return_book(self):\n",
    "        self.available_copies = self.available_copies + 1\n",
    "        \n",
    "    def display_book_info(self):\n",
    "       \n",
    "        print(f\"The book '{self.title}' written by '{self.author}' with ISBN {self.isbn} published in the year {self.publication_year} is available. Library has {self.available_copies} number of copies of the book\")"
   ]
  },
  {
   "cell_type": "code",
   "execution_count": 35,
   "id": "66f0bfa2",
   "metadata": {},
   "outputs": [
    {
     "data": {
      "text/plain": [
       "40"
      ]
     },
     "execution_count": 35,
     "metadata": {},
     "output_type": "execute_result"
    }
   ],
   "source": [
    "book1 = Book(\"God Father\", \"Mario Puzo\", \"GF235698\", 1988, 40)\n",
    "book1.available_copies\n"
   ]
  },
  {
   "cell_type": "code",
   "execution_count": 29,
   "id": "73c9f381",
   "metadata": {},
   "outputs": [
    {
     "data": {
      "text/plain": [
       "39"
      ]
     },
     "execution_count": 29,
     "metadata": {},
     "output_type": "execute_result"
    }
   ],
   "source": [
    "book1.check_out()\n",
    "book1.available_copies"
   ]
  },
  {
   "cell_type": "code",
   "execution_count": 30,
   "id": "09be7327",
   "metadata": {},
   "outputs": [
    {
     "data": {
      "text/plain": [
       "40"
      ]
     },
     "execution_count": 30,
     "metadata": {},
     "output_type": "execute_result"
    }
   ],
   "source": [
    "book1.return_book()\n",
    "book1.available_copies"
   ]
  },
  {
   "cell_type": "code",
   "execution_count": 36,
   "id": "ed9af7d6",
   "metadata": {},
   "outputs": [
    {
     "name": "stdout",
     "output_type": "stream",
     "text": [
      "The book 'God Father' written by 'Mario Puzo' with ISBN GF235698 published in the year 1988 is available. Library has 40 number of copies of the book\n"
     ]
    }
   ],
   "source": [
    "book1.display_book_info()"
   ]
  },
  {
   "cell_type": "markdown",
   "id": "62def6ba",
   "metadata": {},
   "source": [
    "8. For a ticket booking system, you have to design the \"Ticket\" class with OOP\n",
    "principles in mind. The “Ticket” class should have the following attributes:\n",
    "a. ticket_id: Represents the unique identifier for the ticket.\n",
    "b. event_name: Represents the name of the event.\n",
    "c. event_date: Represents the date of the event.\n",
    "d. venue: Represents the venue of the event.\n",
    "e. seat_number: Represents the seat number associated with the ticket.\n",
    "f. price: Represents the price of the ticket.\n",
    "g. is_reserved: Represents the reservation status of the ticket.\n",
    "The class also includes the following methods:\n",
    "a. reserve_ticket(self): Marks the ticket as reserved if it is not already reserved.\n",
    "b. cancel_reservation(self): Cancels the reservation of the ticket if it is already\n",
    "reserved.\n",
    "c. display_ticket_info(self): Displays the information about the ticket, including its\n",
    "attributes and reservation status."
   ]
  },
  {
   "cell_type": "code",
   "execution_count": 77,
   "id": "9e0a45e4",
   "metadata": {},
   "outputs": [],
   "source": [
    "class Ticket:\n",
    "    def __init__(self, ticket_id, event_name, event_date, venue, seat_number, price, is_reserved = False):\n",
    "        self.ticket_id = ticket_id\n",
    "        self.event_name = event_name\n",
    "        self.event_date = event_date\n",
    "        self.venue = venue\n",
    "        self.seat_number = seat_number\n",
    "        self.price = price\n",
    "        self.is_reserved = is_reserved\n",
    "        \n",
    "    def reserve_ticket(self):\n",
    "        if self.is_reserved == False:\n",
    "            self.is_reserved == True\n",
    "            self.is_reserved = \"Reserved\"\n",
    "            \n",
    "    def cancel_reservation(self):\n",
    "        if self.is_reserved == \"Reserved\":\n",
    "            self.is_reserved = False\n",
    "            self.is_reserved = \"Not reserved\"\n",
    "            \n",
    "    def display_ticket_info(self):\n",
    "        print(f\"Ticket with ticket ID {self.ticket_id} of the event {self.event_name} on {self.event_date} at {self.venue} with seat number {self.seat_number} with a Price tag of Rs. {self.price} is {self.is_reserved}\")\n",
    "            \n",
    "        "
   ]
  },
  {
   "cell_type": "code",
   "execution_count": 78,
   "id": "b42cb0cf",
   "metadata": {},
   "outputs": [],
   "source": [
    "ticket1 =Ticket(\"1234\", \"New Year party\", \"31/12/2023\", \"The Taj\", 136, 1500, False)"
   ]
  },
  {
   "cell_type": "code",
   "execution_count": 79,
   "id": "ebe3d36f",
   "metadata": {},
   "outputs": [],
   "source": [
    "ticket1.reserve_ticket()\n"
   ]
  },
  {
   "cell_type": "code",
   "execution_count": 80,
   "id": "d66b2450",
   "metadata": {},
   "outputs": [
    {
     "name": "stdout",
     "output_type": "stream",
     "text": [
      "Ticket with ticket ID 1234 of the event New Year party on 31/12/2023 at The Taj with seat number 136 with a Price tag of Rs. 1500 is Reserved\n"
     ]
    }
   ],
   "source": [
    "ticket1.display_ticket_info()"
   ]
  },
  {
   "cell_type": "code",
   "execution_count": 81,
   "id": "422f0ec0",
   "metadata": {},
   "outputs": [],
   "source": [
    "ticket1.cancel_reservation()"
   ]
  },
  {
   "cell_type": "code",
   "execution_count": 82,
   "id": "8f69c3a1",
   "metadata": {},
   "outputs": [
    {
     "name": "stdout",
     "output_type": "stream",
     "text": [
      "Ticket with ticket ID 1234 of the event New Year party on 31/12/2023 at The Taj with seat number 136 with a Price tag of Rs. 1500 is Not reserved\n"
     ]
    }
   ],
   "source": [
    "ticket1.display_ticket_info()"
   ]
  },
  {
   "cell_type": "markdown",
   "id": "a2d30211",
   "metadata": {},
   "source": [
    "9. You are creating a shopping cart for an e-commerce website. Using OOP to model the \"ShoppingCart\" functionality the class should contain following attributes and methods:\n",
    "a. items: Represents the list of items in the shopping cart.\n",
    "The class also includes the following methods:\n",
    "\n",
    "a. add_item(self, item): Adds an item to the shopping cart by appending it to the\n",
    "list of items.\n",
    "b. remove_item(self, item): Removes an item from the shopping cart if it exists in\n",
    "the list.\n",
    "c. view_cart(self): Displays the items currently present in the shopping cart.\n",
    "d. clear_cart(self): Clears all items from the shopping cart by reassigning an\n",
    "empty list to the items attribute."
   ]
  },
  {
   "cell_type": "code",
   "execution_count": 88,
   "id": "f0ee82c1",
   "metadata": {},
   "outputs": [],
   "source": [
    "class ShoppingCart:\n",
    "    def __init__(self, list1 = []):\n",
    "        self.list1 = list1\n",
    "        \n",
    "    def add_item(self, item):\n",
    "        self.item = item\n",
    "        self.list1.append(self.item)\n",
    "        \n",
    "    def remove_item(self, item):\n",
    "        self.item = item\n",
    "        self.list1.remove(self.item)\n",
    "        \n",
    "    def view_cart(self):\n",
    "        print(f\"The Items in your Cart are: {self.list1}\")\n",
    "        \n",
    "    def clear_cart(self):\n",
    "        self.list1 = []\n",
    "        print(\"Your Cart is empty\", self.list1)\n",
    "        \n",
    "        "
   ]
  },
  {
   "cell_type": "code",
   "execution_count": 89,
   "id": "57bc58fa",
   "metadata": {},
   "outputs": [],
   "source": [
    "shoppingcart1 = ShoppingCart()"
   ]
  },
  {
   "cell_type": "code",
   "execution_count": 90,
   "id": "9ac36334",
   "metadata": {},
   "outputs": [
    {
     "name": "stdout",
     "output_type": "stream",
     "text": [
      "The Items in your Cart are: ['apple']\n"
     ]
    }
   ],
   "source": [
    "shoppingcart1.add_item(\"apple\")\n",
    "shoppingcart1.view_cart()"
   ]
  },
  {
   "cell_type": "code",
   "execution_count": 91,
   "id": "e9973e48",
   "metadata": {},
   "outputs": [
    {
     "name": "stdout",
     "output_type": "stream",
     "text": [
      "The Items in your Cart are: ['apple', 'banana']\n"
     ]
    }
   ],
   "source": [
    "shoppingcart1.add_item(\"banana\")\n",
    "shoppingcart1.view_cart()"
   ]
  },
  {
   "cell_type": "code",
   "execution_count": 92,
   "id": "086bb16f",
   "metadata": {},
   "outputs": [
    {
     "name": "stdout",
     "output_type": "stream",
     "text": [
      "The Items in your Cart are: ['apple', 'banana', 'grapes']\n"
     ]
    }
   ],
   "source": [
    "shoppingcart1.add_item(\"grapes\")\n",
    "shoppingcart1.view_cart()"
   ]
  },
  {
   "cell_type": "code",
   "execution_count": 93,
   "id": "d592af2b",
   "metadata": {},
   "outputs": [
    {
     "name": "stdout",
     "output_type": "stream",
     "text": [
      "The Items in your Cart are: ['apple', 'grapes']\n"
     ]
    }
   ],
   "source": [
    "shoppingcart1.remove_item(\"banana\")\n",
    "shoppingcart1.view_cart()"
   ]
  },
  {
   "cell_type": "code",
   "execution_count": 95,
   "id": "d9e3ee0d",
   "metadata": {},
   "outputs": [
    {
     "name": "stdout",
     "output_type": "stream",
     "text": [
      "Your Cart is empty []\n"
     ]
    }
   ],
   "source": [
    "shoppingcart1.clear_cart()\n"
   ]
  },
  {
   "cell_type": "markdown",
   "id": "2c67b51b",
   "metadata": {},
   "source": [
    "10. Imagine a school management system. You have to design the \"Student\" class using OOP concepts.The “Student” class has the following attributes:\n",
    "a. name: Represents the name of the student.\n",
    "b. age: Represents the age of the student.\n",
    "c. grade: Represents the grade or class of the student.\n",
    "d. student_id: Represents the unique identifier for the student.\n",
    "e. attendance: Represents the attendance record of the student.\n",
    "The class should also include the following methods:\n",
    "a. update_attendance(self, date, status): Updates the attendance record of the student for a given date with the provided status (e.g., present or absent).\n",
    "b. get_attendance(self): Returns the attendance record of the student.\n",
    "c. get_average_attendance(self): Calculates and returns the average attendance percentage of the student based on their attendance record."
   ]
  },
  {
   "cell_type": "code",
   "execution_count": 116,
   "id": "921de309",
   "metadata": {},
   "outputs": [],
   "source": [
    "class Student:\n",
    "    def __init__(self, name, age, grade, student_id, attendance):\n",
    "        self.name = name\n",
    "        self.age = age\n",
    "        self.grade = grade\n",
    "        self.student_id = student_id\n",
    "        self.attendance = attendance\n",
    "        \n",
    "    def update_attendance(self, date, status):\n",
    "        self.date = date\n",
    "        self.status = status\n",
    "        print(\"The before attendance is:\", self.attendance)\n",
    "        \n",
    "        if self.status == \"Present\":\n",
    "            self.attendance += 1\n",
    "            print(\"The after attendance is:\", self.attendance)    \n",
    "        \n",
    "    def get_attendance(self):\n",
    "        print(f\"The Attendance record of {self.name} Age {self.age} of Grade {self.grade} and Student ID {self.student_id} is {self.attendance}\")\n",
    "        \n",
    "    def get_average_attendance(self):\n",
    "        total_attendance = 220\n",
    "        avg_attendance = self.attendance*100 /total_attendance\n",
    "        print(f\"The Average Attendance record of {self.name} Age {self.age} of Grade {self.grade} and Student ID {self.student_id} is {avg_attendance}\")\n",
    "        "
   ]
  },
  {
   "cell_type": "code",
   "execution_count": 117,
   "id": "cad0dd30",
   "metadata": {},
   "outputs": [],
   "source": [
    "student1 = Student(\"Krish\", 12, \"IV\", 12365, 120)"
   ]
  },
  {
   "cell_type": "code",
   "execution_count": 118,
   "id": "a7a36552",
   "metadata": {},
   "outputs": [
    {
     "name": "stdout",
     "output_type": "stream",
     "text": [
      "The before attendance is: 120\n",
      "The after attendance is: 121\n"
     ]
    }
   ],
   "source": [
    "student1.update_attendance(8/7/2023, \"Present\")\n"
   ]
  },
  {
   "cell_type": "code",
   "execution_count": 119,
   "id": "22cac984",
   "metadata": {},
   "outputs": [
    {
     "name": "stdout",
     "output_type": "stream",
     "text": [
      "The Attendance record of Krish Age 12 of Grade IV and Student ID 12365 is 121\n"
     ]
    }
   ],
   "source": [
    "student1.get_attendance()"
   ]
  },
  {
   "cell_type": "code",
   "execution_count": 120,
   "id": "1460340b",
   "metadata": {},
   "outputs": [
    {
     "name": "stdout",
     "output_type": "stream",
     "text": [
      "The Average Attendance record of Krish Age 12 of Grade IV and Student ID 12365 is 55.0\n"
     ]
    }
   ],
   "source": [
    "student1.get_average_attendance()"
   ]
  },
  {
   "cell_type": "code",
   "execution_count": null,
   "id": "e56ce4dd",
   "metadata": {},
   "outputs": [],
   "source": []
  }
 ],
 "metadata": {
  "kernelspec": {
   "display_name": "Python 3 (ipykernel)",
   "language": "python",
   "name": "python3"
  },
  "language_info": {
   "codemirror_mode": {
    "name": "ipython",
    "version": 3
   },
   "file_extension": ".py",
   "mimetype": "text/x-python",
   "name": "python",
   "nbconvert_exporter": "python",
   "pygments_lexer": "ipython3",
   "version": "3.10.9"
  }
 },
 "nbformat": 4,
 "nbformat_minor": 5
}
