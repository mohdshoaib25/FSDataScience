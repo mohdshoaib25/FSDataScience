{
 "cells": [
  {
   "cell_type": "markdown",
   "id": "0bf846f9",
   "metadata": {},
   "source": [
    "1. What does an empty dictionary's code look like?"
   ]
  },
  {
   "cell_type": "code",
   "execution_count": null,
   "id": "bdc043ae",
   "metadata": {},
   "outputs": [],
   "source": [
    "# Ans 1.\n",
    "empty_dictionary = {}"
   ]
  },
  {
   "cell_type": "markdown",
   "id": "277c50d3",
   "metadata": {},
   "source": [
    "2. What is the value of a dictionary value with the key 'foo' and the value 42?"
   ]
  },
  {
   "cell_type": "code",
   "execution_count": 2,
   "id": "a9d45a1f",
   "metadata": {},
   "outputs": [
    {
     "data": {
      "text/plain": [
       "dict_values([42])"
      ]
     },
     "execution_count": 2,
     "metadata": {},
     "output_type": "execute_result"
    }
   ],
   "source": [
    "# Ans 2.\n",
    "dict_value = {\"foo\": 42}\n",
    "dict_value.values()"
   ]
  },
  {
   "cell_type": "markdown",
   "id": "eb20f295",
   "metadata": {},
   "source": [
    "3. What is the most significant distinction between a dictionary and a list?\n",
    "\n",
    "Ans3. The most significant distinction between a dictionary and a list is that the items stored in the dictionary are unordered whereas in a list items are ordered. Also dictionary has a key value pair whereas list has only items"
   ]
  },
  {
   "cell_type": "markdown",
   "id": "7d4103a2",
   "metadata": {},
   "source": [
    "4. What happens if you try to access spam['foo'] if spam is {'bar': 100}?\n",
    "Ans. Since there is no key by the name of 'foo', hence we will get a KeyError error on execution of the sode."
   ]
  },
  {
   "cell_type": "code",
   "execution_count": 5,
   "id": "98ee996b",
   "metadata": {},
   "outputs": [
    {
     "data": {
      "text/plain": [
       "False"
      ]
     },
     "execution_count": 5,
     "metadata": {},
     "output_type": "execute_result"
    }
   ],
   "source": [
    "spam = {'bar': 100}\n",
    "spam['foo']\n",
    "'"
   ]
  },
  {
   "cell_type": "markdown",
   "id": "9708f2be",
   "metadata": {},
   "source": [
    "5. If a dictionary is stored in spam, what is the difference between the expressions 'cat' in spam and 'cat' in spam.keys()?\n",
    "Ans. There is no difference between 'cat' in spam and 'cat' in spam.keys() as in both the expression, in operator check the key stored in the dictionary."
   ]
  },
  {
   "cell_type": "code",
   "execution_count": 11,
   "id": "c52bc87c",
   "metadata": {},
   "outputs": [
    {
     "data": {
      "text/plain": [
       "True"
      ]
     },
     "execution_count": 11,
     "metadata": {},
     "output_type": "execute_result"
    }
   ],
   "source": [
    "spam = {'cat': 100}\n",
    "'cat' in spam\n",
    "'cat' in spam.keys()\n"
   ]
  },
  {
   "cell_type": "markdown",
   "id": "6abca346",
   "metadata": {},
   "source": [
    "6. If a dictionary is stored in spam, what is the difference between the expressions 'cat' in spam and 'cat' in spam.values()?\n",
    "Ans. 'cat' in spam check the whether the key named 'cat' is present in the dictionary. Whereas the 'cat' in spam.values() will look for the value 'cat' in dictionary"
   ]
  },
  {
   "cell_type": "code",
   "execution_count": 15,
   "id": "17d9e447",
   "metadata": {},
   "outputs": [
    {
     "data": {
      "text/plain": [
       "True"
      ]
     },
     "execution_count": 15,
     "metadata": {},
     "output_type": "execute_result"
    }
   ],
   "source": [
    "spam = {'cat': 100}\n",
    "'cat'in spam\n"
   ]
  },
  {
   "cell_type": "code",
   "execution_count": 16,
   "id": "e07982e4",
   "metadata": {},
   "outputs": [
    {
     "data": {
      "text/plain": [
       "False"
      ]
     },
     "execution_count": 16,
     "metadata": {},
     "output_type": "execute_result"
    }
   ],
   "source": [
    "spam = {'cat': 100}\n",
    "'cat'in spam.values()"
   ]
  },
  {
   "cell_type": "markdown",
   "id": "894ad880",
   "metadata": {},
   "source": [
    "7. What is a shortcut for the following code?\n",
    "if 'color' not in spam:\n",
    "spam['color'] = 'black'\n"
   ]
  },
  {
   "cell_type": "code",
   "execution_count": 17,
   "id": "9d2852ba",
   "metadata": {},
   "outputs": [
    {
     "data": {
      "text/plain": [
       "'black'"
      ]
     },
     "execution_count": 17,
     "metadata": {},
     "output_type": "execute_result"
    }
   ],
   "source": [
    "# Ans 7.\n",
    "spam.setdefault('colour', 'black')"
   ]
  },
  {
   "cell_type": "markdown",
   "id": "e7b53b87",
   "metadata": {},
   "source": [
    "8. How do you \"pretty print\" dictionary values using which module and function?\n",
    "Ans. To \"pretty print dictionary values, we have to import pprint module into our program. \n",
    "fucntion used are : pprint.pprint() or print(pprint.pformat())"
   ]
  },
  {
   "cell_type": "code",
   "execution_count": 22,
   "id": "37385211",
   "metadata": {},
   "outputs": [
    {
     "name": "stdout",
     "output_type": "stream",
     "text": [
      "{' ': 10,\n",
      " 'I': 1,\n",
      " 'K': 1,\n",
      " 'M': 1,\n",
      " 'a': 5,\n",
      " 'd': 1,\n",
      " 'e': 2,\n",
      " 'h': 1,\n",
      " 'i': 2,\n",
      " 'm': 2,\n",
      " 'n': 4,\n",
      " 'o': 2,\n",
      " 'r': 3,\n",
      " 's': 2,\n",
      " 't': 3,\n",
      " 'y': 1}\n"
     ]
    }
   ],
   "source": [
    "# count the string appears no. of times in below mentioned string\n",
    "import pprint\n",
    "name = \" My name is Khan and I am not a terrorist\"\n",
    "\n",
    "d = {}\n",
    "\n",
    "for count in name:\n",
    "    d.setdefault(count, 0)\n",
    "    d[count] = d[count] + 1\n",
    "\n",
    "#pprint.pprint(d)\n",
    "print(pprint.pformat(d))"
   ]
  },
  {
   "cell_type": "code",
   "execution_count": null,
   "id": "21414e70",
   "metadata": {},
   "outputs": [],
   "source": []
  }
 ],
 "metadata": {
  "kernelspec": {
   "display_name": "Python 3 (ipykernel)",
   "language": "python",
   "name": "python3"
  },
  "language_info": {
   "codemirror_mode": {
    "name": "ipython",
    "version": 3
   },
   "file_extension": ".py",
   "mimetype": "text/x-python",
   "name": "python",
   "nbconvert_exporter": "python",
   "pygments_lexer": "ipython3",
   "version": "3.10.9"
  }
 },
 "nbformat": 4,
 "nbformat_minor": 5
}
